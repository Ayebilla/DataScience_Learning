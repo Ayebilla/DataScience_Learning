{
 "cells": [
  {
   "cell_type": "code",
   "execution_count": 140,
   "metadata": {},
   "outputs": [],
   "source": [
    "import os\n",
    "import sys\n",
    "from tweepy import API\n",
    "from tweepy import OAuthHandler\n",
    "from tweepy import Cursor\n",
    "import json\n",
    "from collections import Counter\n",
    "import math\n",
    "import time\n",
    "import pandas as pd\n",
    "import csv\n",
    "import numpy as np\n",
    "from functools import reduce\n",
    "import matplotlib.pyplot as plt\n",
    "import seaborn as sns\n",
    "sns.set()\n",
    "import time\n",
    "import threading"
   ]
  },
  {
   "cell_type": "code",
   "execution_count": 141,
   "metadata": {},
   "outputs": [],
   "source": [
    "#fill the spaces with your twitter developer credentials\n",
    "def getTwitterOAuth():\n",
    "    consumer_key = ''\n",
    "    consumer_secret = ''\n",
    "    access_token = ''\n",
    "    access_token_secret = ''\n",
    "    auth = OAuthHandler(consumer_key, consumer_secret)\n",
    "    auth.set_access_token(access_token,access_token_secret)\n",
    "    return auth\n",
    "\n",
    "def TwitterClient():\n",
    "    auth = getTwitterOAuth()\n",
    "    client = API(auth)\n",
    "    return client\n",
    "#global variables\n",
    "MAX_FRIENDS = 15000\n",
    "max_pages = math.ceil(MAX_FRIENDS/5000)\n",
    "        "
   ]
  },
  {
   "cell_type": "code",
   "execution_count": 142,
   "metadata": {},
   "outputs": [],
   "source": [
    "'''\n",
    "def makeDirectory():\n",
    "    client = TwitterClient()\n",
    "    #dirname = \"users/{}\".format(user)\n",
    "    dirname = \"users\"\n",
    "    \n",
    "    try:\n",
    "        os.makedirs(dirname, mode =0o755, exist_ok=True)\n",
    "    except OSError:\n",
    "        print(\"Directory {} already exist\".format(dirname))\n",
    "    except Exception as e:\n",
    "        print( \"Error while creating directory {}\".format(dirname))\n",
    "        print(e)\n",
    "        sys.exit(1)\n",
    "'''\n"
   ]
  },
  {
   "cell_type": "code",
   "execution_count": 143,
   "metadata": {},
   "outputs": [],
   "source": [
    "def paginate(items,n):\n",
    "    for i in range(0, len(items),n):\n",
    "        yield items[i:i+n] "
   ]
  },
  {
   "cell_type": "code",
   "execution_count": null,
   "metadata": {},
   "outputs": [],
   "source": [
    "usrSet = set()\n",
    "usrSet2 = set()\n"
   ]
  },
  {
   "cell_type": "code",
   "execution_count": 210,
   "metadata": {},
   "outputs": [],
   "source": [
    "# user friends\n",
    "usrset3 = set()\n",
    "\n",
    "def userFriends(user=\"AvokaAyebilla\"):\n",
    "    client = TwitterClient()\n",
    "    fname = \"{}_friends.jsonl\".format(user)\n",
    "    with open(fname, 'w') as f:\n",
    "        for friends in Cursor(client.friends_ids,screen_name=user).pages(max_pages):\n",
    "            for chunk in paginate(friends, 100):\n",
    "                users = client.lookup_users(user_ids=chunk)\n",
    "                for usr in users:\n",
    "                    if usr.location =='Ghana':\n",
    "                        usrset3.add(usr.screen_name)\n",
    "                        f.write(json.dumps(usr._json)+\"\\n\")\n",
    "            if len(friends) == 100:\n",
    "                print(\"More results available. Sleeping for 1 minute to avoid rate limit..\")\n",
    "                time.sleep(120)\n",
    "    #return usrSet2"
   ]
  },
  {
   "cell_type": "markdown",
   "metadata": {},
   "source": [
    "\n",
    "Following are list of some identified top Ghanaians in different industries \n",
    "identified. Their twitter handles were obtained by searching their names on twitter\n",
    "We then get their friends and add it to form the top 1000 Ghanaians on twitter.\n",
    "Repeaton was disallowed by using the python set.\n"
   ]
  },
  {
   "cell_type": "code",
   "execution_count": 211,
   "metadata": {},
   "outputs": [],
   "source": [
    "useList = ['JDMahama','NAkufoAddo','Manasseh_Azure','papakwesijunior','shattawalegh','ASAMOAH_GYAN3','PatrickAwuahJr','MBawumia',\n",
    "              'SBawumia','anasglobal','officeofJJR','nm_appiah','konkrumah','AmgMedikal','RAkufoAddo',\n",
    "              'NJOAgyemang','S_OkudzetoAblak','MensaOtabil','ArchbishopNick']\n",
    "\n",
    "list2 = ['S_OkudzetoAblak','MensaOtabil','ArchbishopNick','MBawumia','SBawumia','johndumelo1','Serwaa_Amihere',\n",
    "        'MajidMichelMM','vanvicker1','sarkodie','samini_dagaati','CharlotteAmaOs1','nanaotafrija','akumaamamazimbi','KafuiDey','Jackie Appiah',\n",
    "        'CoachOpeele','Citi973','TheGhanaWeb']\n",
    "\n",
    "list3 = ['NJOAgyemang','S_OkudzetoAblak','MensaOtabil','ArchbishopNick']\n",
    "\n",
    "'''\n",
    "this is a call of the userFriends function. you will have to manually change the name at  usrset3.add(usr.screen_name)\n",
    "I did this because i wanted to divide my input into smaller chunks for faster processing. \n",
    "Each call of this method is given a separate list of users as input\n",
    "\n",
    " So simply provide the set name in the userFrinds function and the list that contains the input here in the forloop\n",
    " The output of this is a set containing the friends of the users you passed as an input\n",
    "''' \n",
    "\n",
    "\n",
    "for i in list3:\n",
    "    try:\n",
    "        userFriends(i)\n",
    "    except Exception as e:\n",
    "        print( \"Error while getting friends of  {}\".format(i))\n",
    "        print(e)\n"
   ]
  },
  {
   "cell_type": "code",
   "execution_count": 212,
   "metadata": {},
   "outputs": [],
   "source": [
    "#Turn write the output into a csv file for persistence. Use different file names for every call so you don't override the previous\n",
    "\n",
    "df = pd.DataFrame(usrSet, columns = ['handles'])\n",
    "#df\n",
    "df.to_csv('Top_ghanaians3.csv', sep=',', index =False, encoding='utf-8')\n"
   ]
  },
  {
   "cell_type": "code",
   "execution_count": 158,
   "metadata": {},
   "outputs": [],
   "source": [
    "#different csv file for second call to the method\n",
    "df = pd.DataFrame(usrSet2)\n",
    "df\n",
    "df.to_csv('Top_ghanaians2.csv', sep=',', index =False, encoding='utf-8')\n"
   ]
  },
  {
   "cell_type": "code",
   "execution_count": 222,
   "metadata": {},
   "outputs": [],
   "source": [
    "#Now load the different csv files into separate sets then unite them to form the final list of user friends\n",
    "handset1 = set()\n",
    "handset2 = set()\n",
    "handset3 = set()"
   ]
  },
  {
   "cell_type": "code",
   "execution_count": 227,
   "metadata": {},
   "outputs": [],
   "source": [
    "#load a csv file at time. I had to first load the data from the csv into a list before converting it to a set\n",
    "#This was manual so be careful\n",
    "handles = []\n",
    "def readfile():\n",
    "    with open('Top_ghanaians.csv', 'rt') as f:\n",
    "        f.readline()\n",
    "        csv_reader = csv.reader(f)\n",
    "        for line in csv_reader:\n",
    "            handles.append(line)         \n",
    "readfile()           "
   ]
  },
  {
   "cell_type": "code",
   "execution_count": 228,
   "metadata": {},
   "outputs": [],
   "source": [
    "#Here, list is converted into a set\n",
    "for i in handles:\n",
    "    for j in i:\n",
    "        handset1.add(j)\n",
    "#handset2\n",
    "\n",
    "\n"
   ]
  },
  {
   "cell_type": "code",
   "execution_count": 246,
   "metadata": {},
   "outputs": [],
   "source": [
    "#remember the individual list you used as input to find the user friends were not written to the csv file\n",
    "# Concatenate that list with the list you loaded from the csv file to form one list of all your twitter users\n",
    "handset4 = set()\n",
    "userList = useList + list3 + list2\n",
    "for i in userList:\n",
    "    handset4.add(i)\n"
   ]
  },
  {
   "cell_type": "code",
   "execution_count": 248,
   "metadata": {},
   "outputs": [],
   "source": [
    "#use the union method of set to unite the different sets of users you have made.\n",
    "usrhandles = set.union(handset1, handset2, handset3,handset4)"
   ]
  },
  {
   "cell_type": "code",
   "execution_count": 250,
   "metadata": {},
   "outputs": [],
   "source": [
    "#write the result back to a csv file. Now you have a complete list of users for your country.\n",
    "df = pd.DataFrame(usrhandles, columns = ['user_handles'])\n",
    "df.to_csv('Top_ghanaians_usrs.csv', sep=',', index =False, encoding='utf-8')"
   ]
  }
 ],
 "metadata": {
  "kernelspec": {
   "display_name": "Python 3",
   "language": "python",
   "name": "python3"
  },
  "language_info": {
   "codemirror_mode": {
    "name": "ipython",
    "version": 3
   },
   "file_extension": ".py",
   "mimetype": "text/x-python",
   "name": "python",
   "nbconvert_exporter": "python",
   "pygments_lexer": "ipython3",
   "version": "3.7.6"
  }
 },
 "nbformat": 4,
 "nbformat_minor": 4
}
