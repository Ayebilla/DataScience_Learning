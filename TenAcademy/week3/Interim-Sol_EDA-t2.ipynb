{
 "cells": [
  {
   "cell_type": "code",
   "execution_count": 33,
   "metadata": {},
   "outputs": [],
   "source": [
    "import numpy as np\n",
    "import pandas as pd\n",
    "import matplotlib.pyplot as plt\n",
    "import seaborn as sns\n",
    "from sklearn.preprocessing import StandardScaler\n",
    "from sklearn.preprocessing import LabelEncoder\n",
    "from sklearn.decomposition import PCA\n",
    "sns.set()"
   ]
  },
  {
   "cell_type": "code",
   "execution_count": 15,
   "metadata": {},
   "outputs": [],
   "source": [
    "labelencoder = LabelEncoder()"
   ]
  },
  {
   "cell_type": "code",
   "execution_count": 24,
   "metadata": {},
   "outputs": [],
   "source": [
    "led = LabelEncoder()"
   ]
  },
  {
   "cell_type": "code",
   "execution_count": null,
   "metadata": {},
   "outputs": [],
   "source": []
  },
  {
   "cell_type": "code",
   "execution_count": 4,
   "metadata": {
    "scrolled": true
   },
   "outputs": [],
   "source": [
    "data = pd.read_excel('week2_challenge_data_source.xlsx')\n",
    "#data.info()"
   ]
  },
  {
   "cell_type": "code",
   "execution_count": 81,
   "metadata": {},
   "outputs": [],
   "source": [
    "telcomdata=data.copy()\n",
    "#telcomdata.head(10)"
   ]
  },
  {
   "cell_type": "code",
   "execution_count": 82,
   "metadata": {},
   "outputs": [],
   "source": [
    "#encoding categorical features\n",
    "col = telcomdata['Handset Type']\n",
    "telcomdata = telcomdata.apply(lambda col: labelencoder.fit_transform(col.astype(str)), axis=0, result_type='expand')\n"
   ]
  },
  {
   "cell_type": "code",
   "execution_count": 83,
   "metadata": {},
   "outputs": [],
   "source": [
    "#encoding categorical features\n",
    "col = telcomdata['Handset Type']\n",
    "telcomdata= telcomdata.apply(lambda col: labelencoder.fit_transform(col.astype(str)), axis=0, result_type='expand')"
   ]
  },
  {
   "cell_type": "code",
   "execution_count": 84,
   "metadata": {},
   "outputs": [],
   "source": [
    "#encoding manufacturer type\n",
    "col1 = telcomdata['Handset Manufacturer']\n",
    "telcomdata = telcomdata.apply(lambda col: led.fit_transform(col.astype(str)), axis=0, result_type='expand')"
   ]
  },
  {
   "cell_type": "code",
   "execution_count": 85,
   "metadata": {},
   "outputs": [
    {
     "data": {
      "text/html": [
       "<div>\n",
       "<style scoped>\n",
       "    .dataframe tbody tr th:only-of-type {\n",
       "        vertical-align: middle;\n",
       "    }\n",
       "\n",
       "    .dataframe tbody tr th {\n",
       "        vertical-align: top;\n",
       "    }\n",
       "\n",
       "    .dataframe thead th {\n",
       "        text-align: right;\n",
       "    }\n",
       "</style>\n",
       "<table border=\"1\" class=\"dataframe\">\n",
       "  <thead>\n",
       "    <tr style=\"text-align: right;\">\n",
       "      <th></th>\n",
       "      <th>Bearer Id</th>\n",
       "      <th>Start</th>\n",
       "      <th>Start ms</th>\n",
       "      <th>End</th>\n",
       "      <th>End ms</th>\n",
       "      <th>Dur. (ms)</th>\n",
       "      <th>IMSI</th>\n",
       "      <th>MSISDN/Number</th>\n",
       "      <th>IMEI</th>\n",
       "      <th>Last Location Name</th>\n",
       "      <th>...</th>\n",
       "      <th>Youtube DL (Bytes)</th>\n",
       "      <th>Youtube UL (Bytes)</th>\n",
       "      <th>Netflix DL (Bytes)</th>\n",
       "      <th>Netflix UL (Bytes)</th>\n",
       "      <th>Gaming DL (Bytes)</th>\n",
       "      <th>Gaming UL (Bytes)</th>\n",
       "      <th>Other DL (Bytes)</th>\n",
       "      <th>Other UL (Bytes)</th>\n",
       "      <th>Total UL (Bytes)</th>\n",
       "      <th>Total DL (Bytes)</th>\n",
       "    </tr>\n",
       "  </thead>\n",
       "  <tbody>\n",
       "    <tr>\n",
       "      <th>0</th>\n",
       "      <td>87594</td>\n",
       "      <td>0</td>\n",
       "      <td>692</td>\n",
       "      <td>27888</td>\n",
       "      <td>543</td>\n",
       "      <td>19353</td>\n",
       "      <td>40884</td>\n",
       "      <td>62921</td>\n",
       "      <td>31130</td>\n",
       "      <td>19758</td>\n",
       "      <td>...</td>\n",
       "      <td>132779</td>\n",
       "      <td>46007</td>\n",
       "      <td>83857</td>\n",
       "      <td>96234</td>\n",
       "      <td>125246</td>\n",
       "      <td>134279</td>\n",
       "      <td>92104</td>\n",
       "      <td>84140</td>\n",
       "      <td>147038</td>\n",
       "      <td>128363</td>\n",
       "    </tr>\n",
       "    <tr>\n",
       "      <th>1</th>\n",
       "      <td>87598</td>\n",
       "      <td>51014</td>\n",
       "      <td>569</td>\n",
       "      <td>27677</td>\n",
       "      <td>467</td>\n",
       "      <td>59469</td>\n",
       "      <td>3112</td>\n",
       "      <td>88989</td>\n",
       "      <td>69624</td>\n",
       "      <td>9667</td>\n",
       "      <td>...</td>\n",
       "      <td>21997</td>\n",
       "      <td>16439</td>\n",
       "      <td>5161</td>\n",
       "      <td>148277</td>\n",
       "      <td>100540</td>\n",
       "      <td>101754</td>\n",
       "      <td>36611</td>\n",
       "      <td>142969</td>\n",
       "      <td>74691</td>\n",
       "      <td>89068</td>\n",
       "    </tr>\n",
       "    <tr>\n",
       "      <th>2</th>\n",
       "      <td>87606</td>\n",
       "      <td>100395</td>\n",
       "      <td>1</td>\n",
       "      <td>27799</td>\n",
       "      <td>530</td>\n",
       "      <td>57447</td>\n",
       "      <td>62851</td>\n",
       "      <td>106019</td>\n",
       "      <td>91170</td>\n",
       "      <td>38339</td>\n",
       "      <td>...</td>\n",
       "      <td>17343</td>\n",
       "      <td>124693</td>\n",
       "      <td>147935</td>\n",
       "      <td>63688</td>\n",
       "      <td>113569</td>\n",
       "      <td>41351</td>\n",
       "      <td>8005</td>\n",
       "      <td>43522</td>\n",
       "      <td>104678</td>\n",
       "      <td>121904</td>\n",
       "    </tr>\n",
       "    <tr>\n",
       "      <th>3</th>\n",
       "      <td>87607</td>\n",
       "      <td>861</td>\n",
       "      <td>303</td>\n",
       "      <td>27644</td>\n",
       "      <td>770</td>\n",
       "      <td>36047</td>\n",
       "      <td>33322</td>\n",
       "      <td>102639</td>\n",
       "      <td>14517</td>\n",
       "      <td>15028</td>\n",
       "      <td>...</td>\n",
       "      <td>32182</td>\n",
       "      <td>128849</td>\n",
       "      <td>116260</td>\n",
       "      <td>22403</td>\n",
       "      <td>86033</td>\n",
       "      <td>36233</td>\n",
       "      <td>74014</td>\n",
       "      <td>115181</td>\n",
       "      <td>37597</td>\n",
       "      <td>90507</td>\n",
       "    </tr>\n",
       "    <tr>\n",
       "      <th>4</th>\n",
       "      <td>87617</td>\n",
       "      <td>34965</td>\n",
       "      <td>410</td>\n",
       "      <td>27766</td>\n",
       "      <td>943</td>\n",
       "      <td>31241</td>\n",
       "      <td>27211</td>\n",
       "      <td>101822</td>\n",
       "      <td>22734</td>\n",
       "      <td>41344</td>\n",
       "      <td>...</td>\n",
       "      <td>127537</td>\n",
       "      <td>15101</td>\n",
       "      <td>143928</td>\n",
       "      <td>105493</td>\n",
       "      <td>36002</td>\n",
       "      <td>36010</td>\n",
       "      <td>42456</td>\n",
       "      <td>128936</td>\n",
       "      <td>7895</td>\n",
       "      <td>40110</td>\n",
       "    </tr>\n",
       "  </tbody>\n",
       "</table>\n",
       "<p>5 rows × 55 columns</p>\n",
       "</div>"
      ],
      "text/plain": [
       "   Bearer Id   Start  Start ms    End  End ms  Dur. (ms)   IMSI  \\\n",
       "0      87594       0       692  27888     543      19353  40884   \n",
       "1      87598   51014       569  27677     467      59469   3112   \n",
       "2      87606  100395         1  27799     530      57447  62851   \n",
       "3      87607     861       303  27644     770      36047  33322   \n",
       "4      87617   34965       410  27766     943      31241  27211   \n",
       "\n",
       "   MSISDN/Number   IMEI  Last Location Name  ...  Youtube DL (Bytes)  \\\n",
       "0          62921  31130               19758  ...              132779   \n",
       "1          88989  69624                9667  ...               21997   \n",
       "2         106019  91170               38339  ...               17343   \n",
       "3         102639  14517               15028  ...               32182   \n",
       "4         101822  22734               41344  ...              127537   \n",
       "\n",
       "   Youtube UL (Bytes)  Netflix DL (Bytes)  Netflix UL (Bytes)  \\\n",
       "0               46007               83857               96234   \n",
       "1               16439                5161              148277   \n",
       "2              124693              147935               63688   \n",
       "3              128849              116260               22403   \n",
       "4               15101              143928              105493   \n",
       "\n",
       "   Gaming DL (Bytes)  Gaming UL (Bytes)  Other DL (Bytes)  Other UL (Bytes)  \\\n",
       "0             125246             134279             92104             84140   \n",
       "1             100540             101754             36611            142969   \n",
       "2             113569              41351              8005             43522   \n",
       "3              86033              36233             74014            115181   \n",
       "4              36002              36010             42456            128936   \n",
       "\n",
       "   Total UL (Bytes)  Total DL (Bytes)  \n",
       "0            147038            128363  \n",
       "1             74691             89068  \n",
       "2            104678            121904  \n",
       "3             37597             90507  \n",
       "4              7895             40110  \n",
       "\n",
       "[5 rows x 55 columns]"
      ]
     },
     "execution_count": 85,
     "metadata": {},
     "output_type": "execute_result"
    }
   ],
   "source": [
    "telcomdata.head()"
   ]
  },
  {
   "cell_type": "code",
   "execution_count": 86,
   "metadata": {},
   "outputs": [
    {
     "data": {
      "text/plain": [
       "(150001, 55)"
      ]
     },
     "execution_count": 86,
     "metadata": {},
     "output_type": "execute_result"
    }
   ],
   "source": [
    "features = telcomdata.columns\n",
    "x = telcomdata.loc[:, features].values\n",
    "x = StandardScaler().fit_transform(x) \n",
    "x.shape"
   ]
  },
  {
   "cell_type": "code",
   "execution_count": 87,
   "metadata": {},
   "outputs": [
    {
     "data": {
      "text/plain": [
       "(-1.3440041562605744e-17, 0.9999999999999998)"
      ]
     },
     "execution_count": 87,
     "metadata": {},
     "output_type": "execute_result"
    }
   ],
   "source": [
    "np.mean(x),np.std(x)"
   ]
  },
  {
   "cell_type": "code",
   "execution_count": 88,
   "metadata": {},
   "outputs": [
    {
     "data": {
      "text/html": [
       "<div>\n",
       "<style scoped>\n",
       "    .dataframe tbody tr th:only-of-type {\n",
       "        vertical-align: middle;\n",
       "    }\n",
       "\n",
       "    .dataframe tbody tr th {\n",
       "        vertical-align: top;\n",
       "    }\n",
       "\n",
       "    .dataframe thead th {\n",
       "        text-align: right;\n",
       "    }\n",
       "</style>\n",
       "<table border=\"1\" class=\"dataframe\">\n",
       "  <thead>\n",
       "    <tr style=\"text-align: right;\">\n",
       "      <th></th>\n",
       "      <th>feature0</th>\n",
       "      <th>feature1</th>\n",
       "      <th>feature2</th>\n",
       "      <th>feature3</th>\n",
       "      <th>feature4</th>\n",
       "      <th>feature5</th>\n",
       "      <th>feature6</th>\n",
       "      <th>feature7</th>\n",
       "      <th>feature8</th>\n",
       "      <th>feature9</th>\n",
       "      <th>...</th>\n",
       "      <th>feature45</th>\n",
       "      <th>feature46</th>\n",
       "      <th>feature47</th>\n",
       "      <th>feature48</th>\n",
       "      <th>feature49</th>\n",
       "      <th>feature50</th>\n",
       "      <th>feature51</th>\n",
       "      <th>feature52</th>\n",
       "      <th>feature53</th>\n",
       "      <th>feature54</th>\n",
       "    </tr>\n",
       "  </thead>\n",
       "  <tbody>\n",
       "    <tr>\n",
       "      <th>149996</th>\n",
       "      <td>-0.896813</td>\n",
       "      <td>-1.278736</td>\n",
       "      <td>-0.846361</td>\n",
       "      <td>1.408392</td>\n",
       "      <td>-0.763967</td>\n",
       "      <td>0.797421</td>\n",
       "      <td>-0.435115</td>\n",
       "      <td>-0.991367</td>\n",
       "      <td>-0.822226</td>\n",
       "      <td>0.866017</td>\n",
       "      <td>...</td>\n",
       "      <td>1.413387</td>\n",
       "      <td>0.071687</td>\n",
       "      <td>-1.705779</td>\n",
       "      <td>-1.229818</td>\n",
       "      <td>-0.906752</td>\n",
       "      <td>0.336728</td>\n",
       "      <td>1.444860</td>\n",
       "      <td>1.138620</td>\n",
       "      <td>0.260298</td>\n",
       "      <td>-0.778549</td>\n",
       "    </tr>\n",
       "    <tr>\n",
       "      <th>149997</th>\n",
       "      <td>-0.040302</td>\n",
       "      <td>-1.278736</td>\n",
       "      <td>-0.697665</td>\n",
       "      <td>1.717743</td>\n",
       "      <td>1.655988</td>\n",
       "      <td>1.272251</td>\n",
       "      <td>1.634891</td>\n",
       "      <td>0.085827</td>\n",
       "      <td>-0.098461</td>\n",
       "      <td>1.558402</td>\n",
       "      <td>...</td>\n",
       "      <td>0.939025</td>\n",
       "      <td>0.204023</td>\n",
       "      <td>-1.403708</td>\n",
       "      <td>-0.881936</td>\n",
       "      <td>0.306568</td>\n",
       "      <td>-0.548798</td>\n",
       "      <td>-0.230576</td>\n",
       "      <td>-1.226692</td>\n",
       "      <td>-1.465233</td>\n",
       "      <td>1.051312</td>\n",
       "    </tr>\n",
       "    <tr>\n",
       "      <th>149998</th>\n",
       "      <td>1.479366</td>\n",
       "      <td>-1.278674</td>\n",
       "      <td>-1.638256</td>\n",
       "      <td>1.723065</td>\n",
       "      <td>0.855115</td>\n",
       "      <td>1.279800</td>\n",
       "      <td>0.299510</td>\n",
       "      <td>0.913867</td>\n",
       "      <td>0.176244</td>\n",
       "      <td>-0.396266</td>\n",
       "      <td>...</td>\n",
       "      <td>-0.728583</td>\n",
       "      <td>-1.468478</td>\n",
       "      <td>0.567278</td>\n",
       "      <td>-0.772656</td>\n",
       "      <td>-0.752237</td>\n",
       "      <td>1.109496</td>\n",
       "      <td>1.370582</td>\n",
       "      <td>0.101347</td>\n",
       "      <td>1.428308</td>\n",
       "      <td>-0.672886</td>\n",
       "    </tr>\n",
       "    <tr>\n",
       "      <th>149999</th>\n",
       "      <td>1.479366</td>\n",
       "      <td>-1.278674</td>\n",
       "      <td>0.308630</td>\n",
       "      <td>1.716448</td>\n",
       "      <td>-1.440029</td>\n",
       "      <td>1.270924</td>\n",
       "      <td>-1.206277</td>\n",
       "      <td>1.720020</td>\n",
       "      <td>1.289508</td>\n",
       "      <td>-0.993221</td>\n",
       "      <td>...</td>\n",
       "      <td>0.335267</td>\n",
       "      <td>0.207360</td>\n",
       "      <td>-0.255017</td>\n",
       "      <td>0.825221</td>\n",
       "      <td>1.580516</td>\n",
       "      <td>-1.187183</td>\n",
       "      <td>0.342839</td>\n",
       "      <td>1.306406</td>\n",
       "      <td>0.840347</td>\n",
       "      <td>1.572261</td>\n",
       "    </tr>\n",
       "    <tr>\n",
       "      <th>150000</th>\n",
       "      <td>-1.751235</td>\n",
       "      <td>-1.278642</td>\n",
       "      <td>-0.569717</td>\n",
       "      <td>-1.650012</td>\n",
       "      <td>-0.573283</td>\n",
       "      <td>1.328926</td>\n",
       "      <td>1.016834</td>\n",
       "      <td>0.879506</td>\n",
       "      <td>0.990281</td>\n",
       "      <td>0.732491</td>\n",
       "      <td>...</td>\n",
       "      <td>-0.337729</td>\n",
       "      <td>-1.142252</td>\n",
       "      <td>-0.369052</td>\n",
       "      <td>-1.163755</td>\n",
       "      <td>-1.498226</td>\n",
       "      <td>0.078079</td>\n",
       "      <td>-1.489814</td>\n",
       "      <td>0.061483</td>\n",
       "      <td>0.582059</td>\n",
       "      <td>0.591289</td>\n",
       "    </tr>\n",
       "  </tbody>\n",
       "</table>\n",
       "<p>5 rows × 55 columns</p>\n",
       "</div>"
      ],
      "text/plain": [
       "        feature0  feature1  feature2  feature3  feature4  feature5  feature6  \\\n",
       "149996 -0.896813 -1.278736 -0.846361  1.408392 -0.763967  0.797421 -0.435115   \n",
       "149997 -0.040302 -1.278736 -0.697665  1.717743  1.655988  1.272251  1.634891   \n",
       "149998  1.479366 -1.278674 -1.638256  1.723065  0.855115  1.279800  0.299510   \n",
       "149999  1.479366 -1.278674  0.308630  1.716448 -1.440029  1.270924 -1.206277   \n",
       "150000 -1.751235 -1.278642 -0.569717 -1.650012 -0.573283  1.328926  1.016834   \n",
       "\n",
       "        feature7  feature8  feature9  ...  feature45  feature46  feature47  \\\n",
       "149996 -0.991367 -0.822226  0.866017  ...   1.413387   0.071687  -1.705779   \n",
       "149997  0.085827 -0.098461  1.558402  ...   0.939025   0.204023  -1.403708   \n",
       "149998  0.913867  0.176244 -0.396266  ...  -0.728583  -1.468478   0.567278   \n",
       "149999  1.720020  1.289508 -0.993221  ...   0.335267   0.207360  -0.255017   \n",
       "150000  0.879506  0.990281  0.732491  ...  -0.337729  -1.142252  -0.369052   \n",
       "\n",
       "        feature48  feature49  feature50  feature51  feature52  feature53  \\\n",
       "149996  -1.229818  -0.906752   0.336728   1.444860   1.138620   0.260298   \n",
       "149997  -0.881936   0.306568  -0.548798  -0.230576  -1.226692  -1.465233   \n",
       "149998  -0.772656  -0.752237   1.109496   1.370582   0.101347   1.428308   \n",
       "149999   0.825221   1.580516  -1.187183   0.342839   1.306406   0.840347   \n",
       "150000  -1.163755  -1.498226   0.078079  -1.489814   0.061483   0.582059   \n",
       "\n",
       "        feature54  \n",
       "149996  -0.778549  \n",
       "149997   1.051312  \n",
       "149998  -0.672886  \n",
       "149999   1.572261  \n",
       "150000   0.591289  \n",
       "\n",
       "[5 rows x 55 columns]"
      ]
     },
     "execution_count": 88,
     "metadata": {},
     "output_type": "execute_result"
    }
   ],
   "source": [
    "feat_cols = ['feature'+str(i) for i in range(x.shape[1])]\n",
    "normalised_breast = pd.DataFrame(x,columns=feat_cols)\n",
    "normalised_breast.tail()"
   ]
  },
  {
   "cell_type": "code",
   "execution_count": 89,
   "metadata": {},
   "outputs": [],
   "source": [
    "pca_breast = PCA(n_components=2)\n",
    "principalComponents_breast = pca_breast.fit_transform(x)"
   ]
  },
  {
   "cell_type": "code",
   "execution_count": 90,
   "metadata": {},
   "outputs": [],
   "source": [
    "principal_breast_Df = pd.DataFrame(data = principalComponents_breast\n",
    "             , columns = ['principal component 1', 'principal component 2'])"
   ]
  },
  {
   "cell_type": "code",
   "execution_count": 91,
   "metadata": {},
   "outputs": [
    {
     "data": {
      "text/html": [
       "<div>\n",
       "<style scoped>\n",
       "    .dataframe tbody tr th:only-of-type {\n",
       "        vertical-align: middle;\n",
       "    }\n",
       "\n",
       "    .dataframe tbody tr th {\n",
       "        vertical-align: top;\n",
       "    }\n",
       "\n",
       "    .dataframe thead th {\n",
       "        text-align: right;\n",
       "    }\n",
       "</style>\n",
       "<table border=\"1\" class=\"dataframe\">\n",
       "  <thead>\n",
       "    <tr style=\"text-align: right;\">\n",
       "      <th></th>\n",
       "      <th>principal component 1</th>\n",
       "      <th>principal component 2</th>\n",
       "    </tr>\n",
       "  </thead>\n",
       "  <tbody>\n",
       "    <tr>\n",
       "      <th>149996</th>\n",
       "      <td>-1.845478</td>\n",
       "      <td>-0.565454</td>\n",
       "    </tr>\n",
       "    <tr>\n",
       "      <th>149997</th>\n",
       "      <td>-1.782786</td>\n",
       "      <td>-0.116314</td>\n",
       "    </tr>\n",
       "    <tr>\n",
       "      <th>149998</th>\n",
       "      <td>-2.006704</td>\n",
       "      <td>0.187015</td>\n",
       "    </tr>\n",
       "    <tr>\n",
       "      <th>149999</th>\n",
       "      <td>-1.673293</td>\n",
       "      <td>-0.165192</td>\n",
       "    </tr>\n",
       "    <tr>\n",
       "      <th>150000</th>\n",
       "      <td>4.169085</td>\n",
       "      <td>12.614801</td>\n",
       "    </tr>\n",
       "  </tbody>\n",
       "</table>\n",
       "</div>"
      ],
      "text/plain": [
       "        principal component 1  principal component 2\n",
       "149996              -1.845478              -0.565454\n",
       "149997              -1.782786              -0.116314\n",
       "149998              -2.006704               0.187015\n",
       "149999              -1.673293              -0.165192\n",
       "150000               4.169085              12.614801"
      ]
     },
     "execution_count": 91,
     "metadata": {},
     "output_type": "execute_result"
    }
   ],
   "source": [
    "principal_breast_Df.tail()"
   ]
  },
  {
   "cell_type": "code",
   "execution_count": 92,
   "metadata": {},
   "outputs": [
    {
     "name": "stdout",
     "output_type": "stream",
     "text": [
      "Explained variation per principal component: [0.12030728 0.03886087]\n"
     ]
    }
   ],
   "source": [
    "print('Explained variation per principal component: {}'.format(pca_breast.explained_variance_ratio_))"
   ]
  },
  {
   "cell_type": "markdown",
   "metadata": {},
   "source": [
    "<ul>\n",
    "<li>The initial data with 55 features have been reduced to only 2 features/li>\n",
    "<li>Principal component 1 contains 12% of the features while principal component 2 contains 3% of the features</li>\n",
    "<li>In all, only 15% of the features are retained and 85% lost</li>\n",
    "<li>This is not a good fit of the data.</li>\n",
    "</ul>"
   ]
  },
  {
   "cell_type": "code",
   "execution_count": 573,
   "metadata": {},
   "outputs": [],
   "source": [
    "#Deciles and computing the DL + UL for the top 5 decile class\n",
    "telcomdata['Decile_rank'] = pd.qcut(telcomdata['Dur. (ms)'], 10,duplicates = 'drop'\n",
    "                            ,labels = False)\n",
    "dciles = telcomdata.groupby('Decile_rank')\n",
    "datasum = dciles['total'].sum()\n",
    "top5 = datasum[:4]\n",
    "#top5\n"
   ]
  },
  {
   "cell_type": "code",
   "execution_count": 440,
   "metadata": {},
   "outputs": [],
   "source": [
    "#Find the total data for each application and create new columns for the totals\n",
    "telcomdata['Netflix'] = telcomdata['Netflix DL (Bytes)'] + telcomdata['Netflix UL (Bytes)']\n",
    "telcomdata['YouTube'] = telcomdata['Youtube DL (Bytes)'] + telcomdata['Youtube UL (Bytes)']\n",
    "telcomdata['Gaming'] = telcomdata['Gaming DL (Bytes)'] + telcomdata['Gaming UL (Bytes)']\n",
    "telcomdata['Other'] = telcomdata['Other DL (Bytes)'] + telcomdata['Other UL (Bytes)']\n",
    "telcomdata['Social Media'] = telcomdata['Social Media DL (Bytes)'] + telcomdata['Social Media UL (Bytes)']\n",
    "telcomdata['Google'] = telcomdata['Google DL (Bytes)'] + telcomdata['Google UL (Bytes)']\n",
    "telcomdata['Email'] = telcomdata['Email DL (Bytes)'] + telcomdata['Email DL (Bytes)']"
   ]
  },
  {
   "cell_type": "code",
   "execution_count": 451,
   "metadata": {},
   "outputs": [],
   "source": [
    "telcomdata['total'] = telcomdata['Total DL (Bytes)'] + telcomdata['Total UL (Bytes)']"
   ]
  },
  {
   "cell_type": "code",
   "execution_count": 578,
   "metadata": {},
   "outputs": [
    {
     "data": {
      "text/html": [
       "<div>\n",
       "<style scoped>\n",
       "    .dataframe tbody tr th:only-of-type {\n",
       "        vertical-align: middle;\n",
       "    }\n",
       "\n",
       "    .dataframe tbody tr th {\n",
       "        vertical-align: top;\n",
       "    }\n",
       "\n",
       "    .dataframe thead th {\n",
       "        text-align: right;\n",
       "    }\n",
       "</style>\n",
       "<table border=\"1\" class=\"dataframe\">\n",
       "  <thead>\n",
       "    <tr style=\"text-align: right;\">\n",
       "      <th></th>\n",
       "      <th>MISI</th>\n",
       "      <th>Netflix</th>\n",
       "      <th>YouTube</th>\n",
       "      <th>Gaming</th>\n",
       "      <th>Other</th>\n",
       "      <th>Social Media</th>\n",
       "      <th>Google</th>\n",
       "      <th>Email</th>\n",
       "      <th>total</th>\n",
       "    </tr>\n",
       "  </thead>\n",
       "  <tbody>\n",
       "    <tr>\n",
       "      <th>0</th>\n",
       "      <td>2.082014e+14</td>\n",
       "      <td>17855187.0</td>\n",
       "      <td>18355943.0</td>\n",
       "      <td>292426453.0</td>\n",
       "      <td>180558843.0</td>\n",
       "      <td>1570185.0</td>\n",
       "      <td>2905912.0</td>\n",
       "      <td>7127084.0</td>\n",
       "      <td>345629377.0</td>\n",
       "    </tr>\n",
       "    <tr>\n",
       "      <th>1</th>\n",
       "      <td>2.082019e+14</td>\n",
       "      <td>35565545.0</td>\n",
       "      <td>39359124.0</td>\n",
       "      <td>609920783.0</td>\n",
       "      <td>541959383.0</td>\n",
       "      <td>1933278.0</td>\n",
       "      <td>4414096.0</td>\n",
       "      <td>1258092.0</td>\n",
       "      <td>707185356.0</td>\n",
       "    </tr>\n",
       "    <tr>\n",
       "      <th>2</th>\n",
       "      <td>2.082003e+14</td>\n",
       "      <td>23751202.0</td>\n",
       "      <td>34425237.0</td>\n",
       "      <td>229980251.0</td>\n",
       "      <td>414908351.0</td>\n",
       "      <td>1726277.0</td>\n",
       "      <td>10229119.0</td>\n",
       "      <td>5380302.0</td>\n",
       "      <td>307690973.0</td>\n",
       "    </tr>\n",
       "    <tr>\n",
       "      <th>3</th>\n",
       "      <td>2.082014e+14</td>\n",
       "      <td>15092588.0</td>\n",
       "      <td>36534765.0</td>\n",
       "      <td>810387875.0</td>\n",
       "      <td>761837216.0</td>\n",
       "      <td>657493.0</td>\n",
       "      <td>11811761.0</td>\n",
       "      <td>2879508.0</td>\n",
       "      <td>889352748.0</td>\n",
       "    </tr>\n",
       "    <tr>\n",
       "      <th>4</th>\n",
       "      <td>2.082014e+14</td>\n",
       "      <td>17539799.0</td>\n",
       "      <td>34222253.0</td>\n",
       "      <td>531237049.0</td>\n",
       "      <td>564619822.0</td>\n",
       "      <td>912788.0</td>\n",
       "      <td>7748843.0</td>\n",
       "      <td>3872992.0</td>\n",
       "      <td>607681403.0</td>\n",
       "    </tr>\n",
       "  </tbody>\n",
       "</table>\n",
       "</div>"
      ],
      "text/plain": [
       "           MISI     Netflix     YouTube       Gaming        Other  \\\n",
       "0  2.082014e+14  17855187.0  18355943.0  292426453.0  180558843.0   \n",
       "1  2.082019e+14  35565545.0  39359124.0  609920783.0  541959383.0   \n",
       "2  2.082003e+14  23751202.0  34425237.0  229980251.0  414908351.0   \n",
       "3  2.082014e+14  15092588.0  36534765.0  810387875.0  761837216.0   \n",
       "4  2.082014e+14  17539799.0  34222253.0  531237049.0  564619822.0   \n",
       "\n",
       "   Social Media      Google      Email        total  \n",
       "0     1570185.0   2905912.0  7127084.0  345629377.0  \n",
       "1     1933278.0   4414096.0  1258092.0  707185356.0  \n",
       "2     1726277.0  10229119.0  5380302.0  307690973.0  \n",
       "3      657493.0  11811761.0  2879508.0  889352748.0  \n",
       "4      912788.0   7748843.0  3872992.0  607681403.0  "
      ]
     },
     "execution_count": 578,
     "metadata": {},
     "output_type": "execute_result"
    }
   ],
   "source": [
    "#make a separate table of only the data totals to work with\n",
    "totals = telcomdata.iloc[:, 55:]\n",
    "totals.insert(0, 'MISI',telcomdata['IMSI'])\n",
    "totals.head()\n"
   ]
  },
  {
   "cell_type": "code",
   "execution_count": 94,
   "metadata": {},
   "outputs": [],
   "source": [
    "#Corelation analysis\n",
    "cordata =  telcomdata.iloc[:, 55:-1]\n",
    "cor = cordata.corr(method ='pearson')\n"
   ]
  },
  {
   "cell_type": "code",
   "execution_count": 586,
   "metadata": {},
   "outputs": [
    {
     "data": {
      "text/html": [
       "<div>\n",
       "<style scoped>\n",
       "    .dataframe tbody tr th:only-of-type {\n",
       "        vertical-align: middle;\n",
       "    }\n",
       "\n",
       "    .dataframe tbody tr th {\n",
       "        vertical-align: top;\n",
       "    }\n",
       "\n",
       "    .dataframe thead th {\n",
       "        text-align: right;\n",
       "    }\n",
       "</style>\n",
       "<table border=\"1\" class=\"dataframe\">\n",
       "  <thead>\n",
       "    <tr style=\"text-align: right;\">\n",
       "      <th></th>\n",
       "      <th>Netflix</th>\n",
       "      <th>YouTube</th>\n",
       "      <th>Gaming</th>\n",
       "      <th>Other</th>\n",
       "      <th>Social Media</th>\n",
       "      <th>Google</th>\n",
       "      <th>Email</th>\n",
       "    </tr>\n",
       "  </thead>\n",
       "  <tbody>\n",
       "    <tr>\n",
       "      <th>Netflix</th>\n",
       "      <td>1.000000</td>\n",
       "      <td>0.002882</td>\n",
       "      <td>-0.003109</td>\n",
       "      <td>-0.009033</td>\n",
       "      <td>0.001013</td>\n",
       "      <td>-0.001902</td>\n",
       "      <td>0.000971</td>\n",
       "    </tr>\n",
       "    <tr>\n",
       "      <th>YouTube</th>\n",
       "      <td>0.002882</td>\n",
       "      <td>1.000000</td>\n",
       "      <td>-0.002999</td>\n",
       "      <td>0.002969</td>\n",
       "      <td>0.000548</td>\n",
       "      <td>0.002277</td>\n",
       "      <td>-0.001736</td>\n",
       "    </tr>\n",
       "    <tr>\n",
       "      <th>Gaming</th>\n",
       "      <td>-0.003109</td>\n",
       "      <td>-0.002999</td>\n",
       "      <td>1.000000</td>\n",
       "      <td>-0.002661</td>\n",
       "      <td>0.001082</td>\n",
       "      <td>-0.000994</td>\n",
       "      <td>-0.000035</td>\n",
       "    </tr>\n",
       "    <tr>\n",
       "      <th>Other</th>\n",
       "      <td>-0.009033</td>\n",
       "      <td>0.002969</td>\n",
       "      <td>-0.002661</td>\n",
       "      <td>1.000000</td>\n",
       "      <td>0.006065</td>\n",
       "      <td>-0.001727</td>\n",
       "      <td>-0.000352</td>\n",
       "    </tr>\n",
       "    <tr>\n",
       "      <th>Social Media</th>\n",
       "      <td>0.001013</td>\n",
       "      <td>0.000548</td>\n",
       "      <td>0.001082</td>\n",
       "      <td>0.006065</td>\n",
       "      <td>1.000000</td>\n",
       "      <td>-0.001708</td>\n",
       "      <td>0.004833</td>\n",
       "    </tr>\n",
       "    <tr>\n",
       "      <th>Google</th>\n",
       "      <td>-0.001902</td>\n",
       "      <td>0.002277</td>\n",
       "      <td>-0.000994</td>\n",
       "      <td>-0.001727</td>\n",
       "      <td>-0.001708</td>\n",
       "      <td>1.000000</td>\n",
       "      <td>-0.000428</td>\n",
       "    </tr>\n",
       "    <tr>\n",
       "      <th>Email</th>\n",
       "      <td>0.000971</td>\n",
       "      <td>-0.001736</td>\n",
       "      <td>-0.000035</td>\n",
       "      <td>-0.000352</td>\n",
       "      <td>0.004833</td>\n",
       "      <td>-0.000428</td>\n",
       "      <td>1.000000</td>\n",
       "    </tr>\n",
       "  </tbody>\n",
       "</table>\n",
       "</div>"
      ],
      "text/plain": [
       "               Netflix   YouTube    Gaming     Other  Social Media    Google  \\\n",
       "Netflix       1.000000  0.002882 -0.003109 -0.009033      0.001013 -0.001902   \n",
       "YouTube       0.002882  1.000000 -0.002999  0.002969      0.000548  0.002277   \n",
       "Gaming       -0.003109 -0.002999  1.000000 -0.002661      0.001082 -0.000994   \n",
       "Other        -0.009033  0.002969 -0.002661  1.000000      0.006065 -0.001727   \n",
       "Social Media  0.001013  0.000548  0.001082  0.006065      1.000000 -0.001708   \n",
       "Google       -0.001902  0.002277 -0.000994 -0.001727     -0.001708  1.000000   \n",
       "Email         0.000971 -0.001736 -0.000035 -0.000352      0.004833 -0.000428   \n",
       "\n",
       "                 Email  \n",
       "Netflix       0.000971  \n",
       "YouTube      -0.001736  \n",
       "Gaming       -0.000035  \n",
       "Other        -0.000352  \n",
       "Social Media  0.004833  \n",
       "Google       -0.000428  \n",
       "Email         1.000000  "
      ]
     },
     "execution_count": 586,
     "metadata": {},
     "output_type": "execute_result"
    }
   ],
   "source": [
    "cor"
   ]
  },
  {
   "cell_type": "code",
   "execution_count": 588,
   "metadata": {
    "scrolled": true
   },
   "outputs": [
    {
     "data": {
      "image/png": "[encoded data removed]",
      "text/plain": [
       "<Figure size 1152x576 with 2 Axes>"
      ]
     },
     "metadata": {},
     "output_type": "display_data"
    }
   ],
   "source": [
    "plt.figure(figsize=(16,8))\n",
    "ax = sns.heatmap(cor,\n",
    "                annot=True,\n",
    "                fmt=\".3f\",\n",
    "                annot_kws={'size':13},\n",
    "                )\n",
    "\n",
    "plt.title(\"Corelation map of applications data usage\", fontsize=20)\n",
    "plt.show()"
   ]
  },
  {
   "cell_type": "code",
   "execution_count": 455,
   "metadata": {},
   "outputs": [],
   "source": [
    "totals.insert(7,'Total',telcomdata['total'])"
   ]
  },
  {
   "cell_type": "code",
   "execution_count": 456,
   "metadata": {},
   "outputs": [
    {
     "data": {
      "text/html": [
       "<div>\n",
       "<style scoped>\n",
       "    .dataframe tbody tr th:only-of-type {\n",
       "        vertical-align: middle;\n",
       "    }\n",
       "\n",
       "    .dataframe tbody tr th {\n",
       "        vertical-align: top;\n",
       "    }\n",
       "\n",
       "    .dataframe thead th {\n",
       "        text-align: right;\n",
       "    }\n",
       "</style>\n",
       "<table border=\"1\" class=\"dataframe\">\n",
       "  <thead>\n",
       "    <tr style=\"text-align: right;\">\n",
       "      <th></th>\n",
       "      <th>MISI</th>\n",
       "      <th>Netflix</th>\n",
       "      <th>YouTube</th>\n",
       "      <th>Gaming</th>\n",
       "      <th>Other</th>\n",
       "      <th>Social Media</th>\n",
       "      <th>Google</th>\n",
       "      <th>Total</th>\n",
       "    </tr>\n",
       "  </thead>\n",
       "  <tbody>\n",
       "    <tr>\n",
       "      <th>0</th>\n",
       "      <td>2.082014e+14</td>\n",
       "      <td>17855187.0</td>\n",
       "      <td>18355943.0</td>\n",
       "      <td>292426453.0</td>\n",
       "      <td>180558843.0</td>\n",
       "      <td>1570185.0</td>\n",
       "      <td>2905912.0</td>\n",
       "      <td>345629377.0</td>\n",
       "    </tr>\n",
       "    <tr>\n",
       "      <th>1</th>\n",
       "      <td>2.082019e+14</td>\n",
       "      <td>35565545.0</td>\n",
       "      <td>39359124.0</td>\n",
       "      <td>609920783.0</td>\n",
       "      <td>541959383.0</td>\n",
       "      <td>1933278.0</td>\n",
       "      <td>4414096.0</td>\n",
       "      <td>707185356.0</td>\n",
       "    </tr>\n",
       "    <tr>\n",
       "      <th>2</th>\n",
       "      <td>2.082003e+14</td>\n",
       "      <td>23751202.0</td>\n",
       "      <td>34425237.0</td>\n",
       "      <td>229980251.0</td>\n",
       "      <td>414908351.0</td>\n",
       "      <td>1726277.0</td>\n",
       "      <td>10229119.0</td>\n",
       "      <td>307690973.0</td>\n",
       "    </tr>\n",
       "    <tr>\n",
       "      <th>3</th>\n",
       "      <td>2.082014e+14</td>\n",
       "      <td>15092588.0</td>\n",
       "      <td>36534765.0</td>\n",
       "      <td>810387875.0</td>\n",
       "      <td>761837216.0</td>\n",
       "      <td>657493.0</td>\n",
       "      <td>11811761.0</td>\n",
       "      <td>889352748.0</td>\n",
       "    </tr>\n",
       "    <tr>\n",
       "      <th>4</th>\n",
       "      <td>2.082014e+14</td>\n",
       "      <td>17539799.0</td>\n",
       "      <td>34222253.0</td>\n",
       "      <td>531237049.0</td>\n",
       "      <td>564619822.0</td>\n",
       "      <td>912788.0</td>\n",
       "      <td>7748843.0</td>\n",
       "      <td>607681403.0</td>\n",
       "    </tr>\n",
       "  </tbody>\n",
       "</table>\n",
       "</div>"
      ],
      "text/plain": [
       "           MISI     Netflix     YouTube       Gaming        Other  \\\n",
       "0  2.082014e+14  17855187.0  18355943.0  292426453.0  180558843.0   \n",
       "1  2.082019e+14  35565545.0  39359124.0  609920783.0  541959383.0   \n",
       "2  2.082003e+14  23751202.0  34425237.0  229980251.0  414908351.0   \n",
       "3  2.082014e+14  15092588.0  36534765.0  810387875.0  761837216.0   \n",
       "4  2.082014e+14  17539799.0  34222253.0  531237049.0  564619822.0   \n",
       "\n",
       "   Social Media      Google        Total  \n",
       "0     1570185.0   2905912.0  345629377.0  \n",
       "1     1933278.0   4414096.0  707185356.0  \n",
       "2     1726277.0  10229119.0  307690973.0  \n",
       "3      657493.0  11811761.0  889352748.0  \n",
       "4      912788.0   7748843.0  607681403.0  "
      ]
     },
     "execution_count": 456,
     "metadata": {},
     "output_type": "execute_result"
    }
   ],
   "source": [
    "totals.head()"
   ]
  },
  {
   "cell_type": "code",
   "execution_count": 497,
   "metadata": {},
   "outputs": [],
   "source": [
    "dff = totals.copy()\n",
    "df= dff.sort_values([\"Total\"], ascending = False)"
   ]
  },
  {
   "cell_type": "code",
   "execution_count": null,
   "metadata": {},
   "outputs": [],
   "source": []
  },
  {
   "cell_type": "code",
   "execution_count": 481,
   "metadata": {},
   "outputs": [
    {
     "name": "stderr",
     "output_type": "stream",
     "text": [
      "C:\\Users\\Programms\\lib\\site-packages\\pandas\\core\\frame.py:4133: SettingWithCopyWarning: \n",
      "A value is trying to be set on a copy of a slice from a DataFrame\n",
      "\n",
      "See the caveats in the documentation: https://pandas.pydata.org/pandas-docs/stable/user_guide/indexing.html#returning-a-view-versus-a-copy\n",
      "  errors=errors,\n"
     ]
    }
   ],
   "source": [
    "dat = df.head(10)\n",
    "dat.rename(columns = {'MISI' : 'Customer_id'},inplace = True)"
   ]
  },
  {
   "cell_type": "code",
   "execution_count": 499,
   "metadata": {},
   "outputs": [
    {
     "data": {
      "text/plain": [
       "[3394.31, 3396.55, 64550.4, 64405.23, 274.24, 1171.1]"
      ]
     },
     "execution_count": 499,
     "metadata": {},
     "output_type": "execute_result"
    }
   ],
   "source": [
    "valu = []\n",
    "dlabels = ['Netflix', 'YouTube','Gaming','Other','Social Media','Google']\n",
    "for i in dlabels:\n",
    "    su = float('{0:.2f}'.format(dff[i].sum(axis = 0)*(1*10**-9)))\n",
    "    valu.append(su)\n",
    "valu"
   ]
  },
  {
   "cell_type": "code",
   "execution_count": 505,
   "metadata": {},
   "outputs": [
    {
     "data": {
      "image/png": "[encoded data removed]",
      "text/plain": [
       "<Figure size 432x288 with 1 Axes>"
      ]
     },
     "metadata": {},
     "output_type": "display_data"
    }
   ],
   "source": [
    "fig1, ax1 = plt.subplots()\n",
    "ax1.pie(valu, labels=dlabels, autopct='%1.1f%%', shadow=True)\n",
    "ax1.axis('equal')\n",
    "plt.show()"
   ]
  },
  {
   "cell_type": "code",
   "execution_count": 504,
   "metadata": {},
   "outputs": [
    {
     "name": "stderr",
     "output_type": "stream",
     "text": [
      "No handles with labels found to put in legend.\n"
     ]
    },
    {
     "data": {
      "text/plain": [
       "Text(0.5, 0, 'Application')"
      ]
     },
     "execution_count": 504,
     "metadata": {},
     "output_type": "execute_result"
    },
    {
     "data": {
      "image/png": "[encoded data removed]",
      "text/plain": [
       "<Figure size 432x288 with 1 Axes>"
      ]
     },
     "metadata": {},
     "output_type": "display_data"
    }
   ],
   "source": [
    "with sns.axes_style(\"whitegrid\"):\n",
    "    chart = sns.barplot(x=dlabels, y=valu)\n",
    "    chart.set_xticklabels(rotation=40, ha=\"right\", labels= dlabels)\n",
    "plt.title(\"Comparison of the total data consumption per application\")\n",
    "plt.legend(bbox_to_anchor=(1.05, 1), loc=2,borderaxespad=0.)\n",
    "plt.ylabel('data in gb')\n",
    "plt.xlabel('Application')\n"
   ]
  },
  {
   "cell_type": "markdown",
   "metadata": {},
   "source": [
    "We can see that Gaming and  other applications not known to us are the areas where customers use their data mostly. The insight here is that, we need to dig deeper to understand which are those 'other' and also find out why Gaming seems to be one of the areas where customers spend their data on. Could it be that gaming applications are by nature data consumming or customers actually spend more time with gaming applications that results in the most chunk of their data going into gaming. We could investigate to see if customers actually spend more time gaming  by examining the session duration for gaming applications."
   ]
  },
  {
   "cell_type": "code",
   "execution_count": 506,
   "metadata": {},
   "outputs": [],
   "source": [
    "# with sns.axes_style(\"whitegrid\"):\n",
    "#     chart = sns.barplot(x=\"Customer_id\", y=\"Netflix\",  data=dat)\n",
    "#     chart.set_xticklabels(rotation=40, ha=\"right\", labels= dat['Customer_id'])\n",
    "# plt.title(\"Top 5 customers' Netflix data consumption\")\n",
    "# plt.legend(bbox_to_anchor=(1.05, 1), loc=2,borderaxespad=0.)"
   ]
  },
  {
   "cell_type": "code",
   "execution_count": 422,
   "metadata": {},
   "outputs": [
    {
     "data": {
      "image/png": "[encoded data removed]",
      "text/plain": [
       "<Figure size 432x288 with 1 Axes>"
      ]
     },
     "metadata": {},
     "output_type": "display_data"
    }
   ],
   "source": [
    "#Top 10 handsets\n",
    "top10handsets = telcomdata['Handset Type'].value_counts(dropna=True).sort_values(ascending = False).head(10)\n",
    "\n",
    "top10handsets\n",
    "sizes = []\n",
    "for i in top10handsets:\n",
    "    sizes.append(i)\n",
    "    \n",
    "    \n",
    "\n",
    "#plt.pie([int(v) for v in top10handsets.values()], labels=[string(k) for k in top10handsets.keys()],\n",
    "          # autopct=None)\n",
    "\n",
    "labels = ['Huawei B528S-23A', 'Apple iPhone 6S (A1688)', 'Apple iPhone 6 (A1586)', 'undefined','Apple iPhone 7 (A1778)','Apple iPhone Se (A1723)',\n",
    "'Apple iPhone 8 (A1905)','Apple iPhone Xr (A2105)','Samsung Galaxy S8 (Sm-G950F)','Apple iPhone X (A1901)']\n",
    "\n",
    "\n",
    "fig1, ax1 = plt.subplots()\n",
    "ax1.pie(sizes, labels=labels, autopct='%1.1f%%', shadow=True)\n",
    "ax1.axis('equal')\n",
    "plt.show()"
   ]
  },
  {
   "cell_type": "code",
   "execution_count": 426,
   "metadata": {},
   "outputs": [
    {
     "data": {
      "image/png": "[encoded data removed]",
      "text/plain": [
       "<Figure size 432x288 with 1 Axes>"
      ]
     },
     "metadata": {},
     "output_type": "display_data"
    }
   ],
   "source": [
    "#top3 manufacturers\n",
    "top3handset_mnf = telcomdata['Handset Manufacturer'].value_counts(dropna=False).sort_values(ascending = False).head(3)\n",
    "val = []\n",
    "top3handset_mnf\n",
    "for j in top3handset_mnf:\n",
    "    val.append(j)\n",
    "labels = ['Apple','Samsung','Huawei']\n",
    "\n",
    "\n",
    "fig1, ax1 = plt.subplots()\n",
    "ax1.pie(val, labels=labels, autopct='%1.1f%%', shadow=True)\n",
    "ax1.axis('equal')\n",
    "plt.show()"
   ]
  },
  {
   "cell_type": "code",
   "execution_count": 424,
   "metadata": {},
   "outputs": [
    {
     "data": {
      "text/plain": [
       "Apple      59565\n",
       "Samsung    40839\n",
       "Huawei     34423\n",
       "Name: Handset Manufacturer, dtype: int64"
      ]
     },
     "execution_count": 424,
     "metadata": {},
     "output_type": "execute_result"
    }
   ],
   "source": [
    "top3handset_mnf"
   ]
  },
  {
   "cell_type": "markdown",
   "metadata": {},
   "source": [
    "To get the top 5 Handset types for each of the top 3 Manufacturers, you will first need to know the count of each handset type. You will then group them by manufacturer type and then get the top 5 from each group."
   ]
  },
  {
   "cell_type": "code",
   "execution_count": 366,
   "metadata": {},
   "outputs": [],
   "source": [
    "# Add another column for frequency to the data frame\n",
    "telcomdata['frequency'] = telcomdata['Handset Type'].map(telcomdata['Handset Type'].value_counts())\n",
    "\n",
    "#group by manufacturer\n",
    "df1 = telcomdata.groupby([\"Handset Manufacturer\"])\n",
    "#sort by frequency which represents the count of each handset \n",
    "df2= df1.apply(lambda x: x.sort_values([\"frequency\"], ascending = False))\n",
    "df3=df2.reset_index(drop=True)\n",
    "\n",
    "#dff = df3[['Handset Type', 'frequency']].head(100000)\n",
    "\n",
    "#df3.drop_duplicates(keep=False,inplace=True)\n",
    "#df3\n",
    "#df4 = dff.groupby('Handset Manufacturer').tail(5)\n",
    "\n",
    "#dd = df3.groupby('Handset Manufacturer')['Handset Type'].value_counts(dropna=False).sort_values(ascending = False).nlargest(5)\n",
    "#ddd = telcomdata.groupby(['Handset Manufacturer'])['Handset Type'].nunique().count(level=0).nlargest(5)\n",
    "\n",
    "df4 = df3.groupby('Handset Manufacturer').head(5) \n",
    "\n",
    "dfA = df4[df4['Handset Manufacturer'] == 'Apple']\n",
    "dfA5 = dfA[['Handset Manufacturer', 'Handset Type']]\n",
    "\n",
    "dfH = df4[df4['Handset Manufacturer'] == 'Huawei']\n",
    "dfH5 = dfH[['Handset Manufacturer', 'Handset Type']]\n",
    "\n",
    "\n",
    "dfS = df4[df4['Handset Manufacturer'] == 'Samsung']\n",
    "dfS5 = dfS[['Handset Manufacturer', 'Handset Type']]\n",
    "\n"
   ]
  },
  {
   "cell_type": "code",
   "execution_count": 507,
   "metadata": {},
   "outputs": [],
   "source": [
    "#Top 5 Handsets by Apple\n",
    "#dfA5\n"
   ]
  },
  {
   "cell_type": "code",
   "execution_count": 508,
   "metadata": {},
   "outputs": [],
   "source": [
    "#Top 5 by Huawei\n",
    "#dfH5"
   ]
  },
  {
   "cell_type": "code",
   "execution_count": 509,
   "metadata": {},
   "outputs": [],
   "source": [
    "#Top 5 by Samsung\n",
    "#dfS5"
   ]
  },
  {
   "cell_type": "code",
   "execution_count": 33,
   "metadata": {},
   "outputs": [],
   "source": [
    "#telcomdata.sort_values(['Handset Type', 'value'], axis=0).groupby('Handset Manufacturer').head(2)"
   ]
  },
  {
   "cell_type": "code",
   "execution_count": 368,
   "metadata": {},
   "outputs": [],
   "source": [
    "workwith = data.copy()"
   ]
  },
  {
   "cell_type": "code",
   "execution_count": 487,
   "metadata": {},
   "outputs": [
    {
     "data": {
      "text/plain": [
       "74364.695455661"
      ]
     },
     "execution_count": 487,
     "metadata": {},
     "output_type": "execute_result"
    }
   ],
   "source": [
    "#total data, both download and upload\n",
    "workwith['total_dat'] = workwith.loc[:,['Total DL (Bytes)','Total UL (Bytes)']].sum(axis=1)\n",
    "workwith['total_dat'].sum()*(1*10**-9)"
   ]
  },
  {
   "cell_type": "code",
   "execution_count": 391,
   "metadata": {},
   "outputs": [],
   "source": [
    "#workwith.info()"
   ]
  },
  {
   "cell_type": "code",
   "execution_count": 435,
   "metadata": {},
   "outputs": [],
   "source": [
    "nums = workwith.iloc[:, 39:-1]"
   ]
  },
  {
   "cell_type": "code",
   "execution_count": 436,
   "metadata": {},
   "outputs": [
    {
     "data": {
      "text/plain": [
       "Social Media DL (Bytes)    2.693001e+11\n",
       "Social Media UL (Bytes)    4.939298e+09\n",
       "Google DL (Bytes)          8.626186e+11\n",
       "Google UL (Bytes)          3.084833e+11\n",
       "Email DL (Bytes)           2.687611e+11\n",
       "Email UL (Bytes)           7.010648e+10\n",
       "Youtube DL (Bytes)         1.745123e+12\n",
       "Youtube UL (Bytes)         1.651423e+12\n",
       "Netflix DL (Bytes)         1.744039e+12\n",
       "Netflix UL (Bytes)         1.650274e+12\n",
       "Gaming DL (Bytes)          6.330713e+13\n",
       "Gaming UL (Bytes)          1.243268e+12\n",
       "Other DL (Bytes)           6.316550e+13\n",
       "Other UL (Bytes)           1.239728e+12\n",
       "Total UL (Bytes)           6.168181e+12\n",
       "Total DL (Bytes)           6.819651e+13\n",
       "dtype: float64"
      ]
     },
     "execution_count": 436,
     "metadata": {},
     "output_type": "execute_result"
    }
   ],
   "source": [
    "#sums of the data fields\n",
    "nums.sum(axis =0)\n"
   ]
  },
  {
   "cell_type": "code",
   "execution_count": 390,
   "metadata": {
    "scrolled": true
   },
   "outputs": [
    {
     "data": {
      "text/html": [
       "<div>\n",
       "<style scoped>\n",
       "    .dataframe tbody tr th:only-of-type {\n",
       "        vertical-align: middle;\n",
       "    }\n",
       "\n",
       "    .dataframe tbody tr th {\n",
       "        vertical-align: top;\n",
       "    }\n",
       "\n",
       "    .dataframe thead th {\n",
       "        text-align: right;\n",
       "    }\n",
       "</style>\n",
       "<table border=\"1\" class=\"dataframe\">\n",
       "  <thead>\n",
       "    <tr style=\"text-align: right;\">\n",
       "      <th></th>\n",
       "      <th>Social Media DL (Bytes)</th>\n",
       "      <th>Social Media UL (Bytes)</th>\n",
       "      <th>Google DL (Bytes)</th>\n",
       "      <th>Google UL (Bytes)</th>\n",
       "      <th>Email DL (Bytes)</th>\n",
       "      <th>Email UL (Bytes)</th>\n",
       "      <th>Youtube DL (Bytes)</th>\n",
       "      <th>Youtube UL (Bytes)</th>\n",
       "      <th>Netflix DL (Bytes)</th>\n",
       "      <th>Netflix UL (Bytes)</th>\n",
       "      <th>Gaming DL (Bytes)</th>\n",
       "      <th>Gaming UL (Bytes)</th>\n",
       "      <th>Other DL (Bytes)</th>\n",
       "      <th>Other UL (Bytes)</th>\n",
       "      <th>Total UL (Bytes)</th>\n",
       "      <th>Total DL (Bytes)</th>\n",
       "    </tr>\n",
       "  </thead>\n",
       "  <tbody>\n",
       "    <tr>\n",
       "      <th>count</th>\n",
       "      <td>1.500010e+05</td>\n",
       "      <td>150001.000000</td>\n",
       "      <td>1.500010e+05</td>\n",
       "      <td>1.500010e+05</td>\n",
       "      <td>1.500010e+05</td>\n",
       "      <td>150001.000000</td>\n",
       "      <td>1.500010e+05</td>\n",
       "      <td>1.500010e+05</td>\n",
       "      <td>1.500010e+05</td>\n",
       "      <td>1.500010e+05</td>\n",
       "      <td>1.500010e+05</td>\n",
       "      <td>1.500010e+05</td>\n",
       "      <td>1.500010e+05</td>\n",
       "      <td>1.500010e+05</td>\n",
       "      <td>1.500000e+05</td>\n",
       "      <td>1.500000e+05</td>\n",
       "    </tr>\n",
       "    <tr>\n",
       "      <th>mean</th>\n",
       "      <td>1.795322e+06</td>\n",
       "      <td>32928.434380</td>\n",
       "      <td>5.750753e+06</td>\n",
       "      <td>2.056542e+06</td>\n",
       "      <td>1.791729e+06</td>\n",
       "      <td>467373.441940</td>\n",
       "      <td>1.163407e+07</td>\n",
       "      <td>1.100941e+07</td>\n",
       "      <td>1.162685e+07</td>\n",
       "      <td>1.100175e+07</td>\n",
       "      <td>4.220447e+08</td>\n",
       "      <td>8.288398e+06</td>\n",
       "      <td>4.211005e+08</td>\n",
       "      <td>8.264799e+06</td>\n",
       "      <td>4.112121e+07</td>\n",
       "      <td>4.546434e+08</td>\n",
       "    </tr>\n",
       "    <tr>\n",
       "      <th>std</th>\n",
       "      <td>1.035482e+06</td>\n",
       "      <td>19006.178256</td>\n",
       "      <td>3.309097e+06</td>\n",
       "      <td>1.189917e+06</td>\n",
       "      <td>1.035840e+06</td>\n",
       "      <td>269969.307031</td>\n",
       "      <td>6.710569e+06</td>\n",
       "      <td>6.345423e+06</td>\n",
       "      <td>6.725218e+06</td>\n",
       "      <td>6.359490e+06</td>\n",
       "      <td>2.439675e+08</td>\n",
       "      <td>4.782700e+06</td>\n",
       "      <td>2.432050e+08</td>\n",
       "      <td>4.769004e+06</td>\n",
       "      <td>1.127639e+07</td>\n",
       "      <td>2.441429e+08</td>\n",
       "    </tr>\n",
       "    <tr>\n",
       "      <th>min</th>\n",
       "      <td>1.200000e+01</td>\n",
       "      <td>0.000000</td>\n",
       "      <td>2.070000e+02</td>\n",
       "      <td>3.000000e+00</td>\n",
       "      <td>1.400000e+01</td>\n",
       "      <td>2.000000</td>\n",
       "      <td>5.300000e+01</td>\n",
       "      <td>1.050000e+02</td>\n",
       "      <td>4.200000e+01</td>\n",
       "      <td>3.500000e+01</td>\n",
       "      <td>2.516000e+03</td>\n",
       "      <td>5.900000e+01</td>\n",
       "      <td>3.290000e+03</td>\n",
       "      <td>1.480000e+02</td>\n",
       "      <td>2.866892e+06</td>\n",
       "      <td>7.114041e+06</td>\n",
       "    </tr>\n",
       "    <tr>\n",
       "      <th>25%</th>\n",
       "      <td>8.991480e+05</td>\n",
       "      <td>16448.000000</td>\n",
       "      <td>2.882393e+06</td>\n",
       "      <td>1.024279e+06</td>\n",
       "      <td>8.927930e+05</td>\n",
       "      <td>233383.000000</td>\n",
       "      <td>5.833501e+06</td>\n",
       "      <td>5.517965e+06</td>\n",
       "      <td>5.777156e+06</td>\n",
       "      <td>5.475981e+06</td>\n",
       "      <td>2.104733e+08</td>\n",
       "      <td>4.128476e+06</td>\n",
       "      <td>2.101869e+08</td>\n",
       "      <td>4.145943e+06</td>\n",
       "      <td>3.322201e+07</td>\n",
       "      <td>2.431068e+08</td>\n",
       "    </tr>\n",
       "    <tr>\n",
       "      <th>50%</th>\n",
       "      <td>1.794369e+06</td>\n",
       "      <td>32920.000000</td>\n",
       "      <td>5.765829e+06</td>\n",
       "      <td>2.054573e+06</td>\n",
       "      <td>1.793505e+06</td>\n",
       "      <td>466250.000000</td>\n",
       "      <td>1.161602e+07</td>\n",
       "      <td>1.101345e+07</td>\n",
       "      <td>1.164222e+07</td>\n",
       "      <td>1.099638e+07</td>\n",
       "      <td>4.234081e+08</td>\n",
       "      <td>8.291208e+06</td>\n",
       "      <td>4.218030e+08</td>\n",
       "      <td>8.267071e+06</td>\n",
       "      <td>4.114331e+07</td>\n",
       "      <td>4.558411e+08</td>\n",
       "    </tr>\n",
       "    <tr>\n",
       "      <th>75%</th>\n",
       "      <td>2.694938e+06</td>\n",
       "      <td>49334.000000</td>\n",
       "      <td>8.623552e+06</td>\n",
       "      <td>3.088454e+06</td>\n",
       "      <td>2.689327e+06</td>\n",
       "      <td>700440.000000</td>\n",
       "      <td>1.744852e+07</td>\n",
       "      <td>1.651556e+07</td>\n",
       "      <td>1.747048e+07</td>\n",
       "      <td>1.650727e+07</td>\n",
       "      <td>6.331742e+08</td>\n",
       "      <td>1.243162e+07</td>\n",
       "      <td>6.316918e+08</td>\n",
       "      <td>1.238415e+07</td>\n",
       "      <td>4.903424e+07</td>\n",
       "      <td>6.657055e+08</td>\n",
       "    </tr>\n",
       "    <tr>\n",
       "      <th>max</th>\n",
       "      <td>3.586064e+06</td>\n",
       "      <td>65870.000000</td>\n",
       "      <td>1.146283e+07</td>\n",
       "      <td>4.121357e+06</td>\n",
       "      <td>3.586146e+06</td>\n",
       "      <td>936418.000000</td>\n",
       "      <td>2.325910e+07</td>\n",
       "      <td>2.201196e+07</td>\n",
       "      <td>2.325919e+07</td>\n",
       "      <td>2.201196e+07</td>\n",
       "      <td>8.434419e+08</td>\n",
       "      <td>1.655879e+07</td>\n",
       "      <td>8.434425e+08</td>\n",
       "      <td>1.655882e+07</td>\n",
       "      <td>7.833131e+07</td>\n",
       "      <td>9.029696e+08</td>\n",
       "    </tr>\n",
       "  </tbody>\n",
       "</table>\n",
       "</div>"
      ],
      "text/plain": [
       "       Social Media DL (Bytes)  Social Media UL (Bytes)  Google DL (Bytes)  \\\n",
       "count             1.500010e+05            150001.000000       1.500010e+05   \n",
       "mean              1.795322e+06             32928.434380       5.750753e+06   \n",
       "std               1.035482e+06             19006.178256       3.309097e+06   \n",
       "min               1.200000e+01                 0.000000       2.070000e+02   \n",
       "25%               8.991480e+05             16448.000000       2.882393e+06   \n",
       "50%               1.794369e+06             32920.000000       5.765829e+06   \n",
       "75%               2.694938e+06             49334.000000       8.623552e+06   \n",
       "max               3.586064e+06             65870.000000       1.146283e+07   \n",
       "\n",
       "       Google UL (Bytes)  Email DL (Bytes)  Email UL (Bytes)  \\\n",
       "count       1.500010e+05      1.500010e+05     150001.000000   \n",
       "mean        2.056542e+06      1.791729e+06     467373.441940   \n",
       "std         1.189917e+06      1.035840e+06     269969.307031   \n",
       "min         3.000000e+00      1.400000e+01          2.000000   \n",
       "25%         1.024279e+06      8.927930e+05     233383.000000   \n",
       "50%         2.054573e+06      1.793505e+06     466250.000000   \n",
       "75%         3.088454e+06      2.689327e+06     700440.000000   \n",
       "max         4.121357e+06      3.586146e+06     936418.000000   \n",
       "\n",
       "       Youtube DL (Bytes)  Youtube UL (Bytes)  Netflix DL (Bytes)  \\\n",
       "count        1.500010e+05        1.500010e+05        1.500010e+05   \n",
       "mean         1.163407e+07        1.100941e+07        1.162685e+07   \n",
       "std          6.710569e+06        6.345423e+06        6.725218e+06   \n",
       "min          5.300000e+01        1.050000e+02        4.200000e+01   \n",
       "25%          5.833501e+06        5.517965e+06        5.777156e+06   \n",
       "50%          1.161602e+07        1.101345e+07        1.164222e+07   \n",
       "75%          1.744852e+07        1.651556e+07        1.747048e+07   \n",
       "max          2.325910e+07        2.201196e+07        2.325919e+07   \n",
       "\n",
       "       Netflix UL (Bytes)  Gaming DL (Bytes)  Gaming UL (Bytes)  \\\n",
       "count        1.500010e+05       1.500010e+05       1.500010e+05   \n",
       "mean         1.100175e+07       4.220447e+08       8.288398e+06   \n",
       "std          6.359490e+06       2.439675e+08       4.782700e+06   \n",
       "min          3.500000e+01       2.516000e+03       5.900000e+01   \n",
       "25%          5.475981e+06       2.104733e+08       4.128476e+06   \n",
       "50%          1.099638e+07       4.234081e+08       8.291208e+06   \n",
       "75%          1.650727e+07       6.331742e+08       1.243162e+07   \n",
       "max          2.201196e+07       8.434419e+08       1.655879e+07   \n",
       "\n",
       "       Other DL (Bytes)  Other UL (Bytes)  Total UL (Bytes)  Total DL (Bytes)  \n",
       "count      1.500010e+05      1.500010e+05      1.500000e+05      1.500000e+05  \n",
       "mean       4.211005e+08      8.264799e+06      4.112121e+07      4.546434e+08  \n",
       "std        2.432050e+08      4.769004e+06      1.127639e+07      2.441429e+08  \n",
       "min        3.290000e+03      1.480000e+02      2.866892e+06      7.114041e+06  \n",
       "25%        2.101869e+08      4.145943e+06      3.322201e+07      2.431068e+08  \n",
       "50%        4.218030e+08      8.267071e+06      4.114331e+07      4.558411e+08  \n",
       "75%        6.316918e+08      1.238415e+07      4.903424e+07      6.657055e+08  \n",
       "max        8.434425e+08      1.655882e+07      7.833131e+07      9.029696e+08  "
      ]
     },
     "execution_count": 390,
     "metadata": {},
     "output_type": "execute_result"
    }
   ],
   "source": [
    "nums.describe()"
   ]
  },
  {
   "cell_type": "code",
   "execution_count": 427,
   "metadata": {},
   "outputs": [],
   "source": [
    "#telcomdata.nunique()"
   ]
  },
  {
   "cell_type": "code",
   "execution_count": 428,
   "metadata": {},
   "outputs": [],
   "source": [
    "#number of xDR sessions per user\n",
    "\n",
    "#telcomdata.groupby(['IMSI'])['Bearer Id'].count()"
   ]
  },
  {
   "cell_type": "code",
   "execution_count": 429,
   "metadata": {},
   "outputs": [
    {
     "data": {
      "text/plain": [
       "IMSI\n",
       "2.040471e+14    14.497400\n",
       "2.040808e+14    14.623083\n",
       "2.082001e+14     1.433650\n",
       "2.082001e+14     1.437567\n",
       "2.082001e+14     9.565383\n",
       "                  ...    \n",
       "2.082099e+14     2.122783\n",
       "2.082099e+14     2.809050\n",
       "2.082099e+14     1.439983\n",
       "2.082522e+14     0.943550\n",
       "2.140743e+14     3.779833\n",
       "Name: Dur. (ms), Length: 107265, dtype: float64"
      ]
     },
     "execution_count": 429,
     "metadata": {},
     "output_type": "execute_result"
    }
   ],
   "source": [
    "#xDR total duration for each customer in minutes\n",
    "durms = telcomdata.groupby(['IMSI'])['Dur. (ms)'].sum()\n",
    "durmin =  (durms / (1000*60)) % 60\n",
    "durmin"
   ]
  },
  {
   "cell_type": "code",
   "execution_count": 430,
   "metadata": {},
   "outputs": [],
   "source": [
    "cust = telcomdata['IMSI'].value_counts(dropna=False).sort_values(ascending = False).head(20)\n",
    "#cust"
   ]
  }
 ],
 "metadata": {
  "kernelspec": {
   "display_name": "Python 3",
   "language": "python",
   "name": "python3"
  },
  "language_info": {
   "codemirror_mode": {
    "name": "ipython",
    "version": 3
   },
   "file_extension": ".py",
   "mimetype": "text/x-python",
   "name": "python",
   "nbconvert_exporter": "python",
   "pygments_lexer": "ipython3",
   "version": "3.7.6"
  }
 },
 "nbformat": 4,
 "nbformat_minor": 4
}
