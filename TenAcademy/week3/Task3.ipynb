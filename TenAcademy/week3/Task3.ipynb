{
 "cells": [
  {
   "cell_type": "code",
   "execution_count": 1,
   "metadata": {},
   "outputs": [],
   "source": [
    "import numpy as np\n",
    "import pandas as pd\n",
    "import matplotlib.pyplot as plt\n",
    "import seaborn as sns\n",
    "from sklearn.preprocessing import StandardScaler\n",
    "from sklearn.preprocessing import LabelEncoder\n",
    "from sklearn.preprocessing import OrdinalEncoder\n",
    "from sklearn.decomposition import PCA\n",
    "from sklearn import preprocessing \n",
    "from sklearn.cluster import KMeans\n",
    "from mpl_toolkits.mplot3d import Axes3D\n",
    "import re\n",
    "sns.set()"
   ]
  },
  {
   "cell_type": "code",
   "execution_count": 2,
   "metadata": {},
   "outputs": [],
   "source": [
    "data = pd.read_excel('week2_challenge_data_source.xlsx')"
   ]
  },
  {
   "cell_type": "code",
   "execution_count": 4,
   "metadata": {},
   "outputs": [],
   "source": [
    "dat = data.copy()\n",
    "da = data.copy()"
   ]
  },
  {
   "cell_type": "code",
   "execution_count": 5,
   "metadata": {},
   "outputs": [],
   "source": [
    "dat['TCP_Rtms'] = dat['TCP DL Retrans. Vol (Bytes)'] + dat['TCP UL Retrans. Vol (Bytes)']\n",
    "dat['RTT'] = dat['Avg RTT DL (ms)'] + dat['Avg RTT UL (ms)']\n",
    "dat['Throughput'] = dat['Avg Bearer TP DL (kbps)'] + dat['Avg Bearer TP UL (kbps)']"
   ]
  },
  {
   "cell_type": "code",
   "execution_count": 6,
   "metadata": {},
   "outputs": [],
   "source": [
    "#Filter out the important columns to work with in this task\n",
    "df = dat.iloc[:, 55:]\n",
    "df.insert(0, 'MSISDN/Number',dat['MSISDN/Number'])\n",
    "df.insert(1, 'Handset Type',dat['Handset Type'])"
   ]
  },
  {
   "cell_type": "code",
   "execution_count": 7,
   "metadata": {},
   "outputs": [],
   "source": [
    "# Replacing missing values with mode.\n",
    "#df.fillna(df.mode(), inplace = True)\n",
    "for column in df.columns:\n",
    "    df[column].fillna(df[column].mode()[0], inplace=True)"
   ]
  },
  {
   "cell_type": "code",
   "execution_count": 8,
   "metadata": {},
   "outputs": [
    {
     "data": {
      "text/html": [
       "<div>\n",
       "<style scoped>\n",
       "    .dataframe tbody tr th:only-of-type {\n",
       "        vertical-align: middle;\n",
       "    }\n",
       "\n",
       "    .dataframe tbody tr th {\n",
       "        vertical-align: top;\n",
       "    }\n",
       "\n",
       "    .dataframe thead th {\n",
       "        text-align: right;\n",
       "    }\n",
       "</style>\n",
       "<table border=\"1\" class=\"dataframe\">\n",
       "  <thead>\n",
       "    <tr style=\"text-align: right;\">\n",
       "      <th></th>\n",
       "      <th>MSISDN/Number</th>\n",
       "      <th>Handset Type</th>\n",
       "      <th>TCP_Rtms</th>\n",
       "      <th>RTT</th>\n",
       "      <th>Throughput</th>\n",
       "    </tr>\n",
       "  </thead>\n",
       "  <tbody>\n",
       "    <tr>\n",
       "      <th>0</th>\n",
       "      <td>3.366496e+10</td>\n",
       "      <td>Samsung Galaxy A5 Sm-A520F</td>\n",
       "      <td>2660.0</td>\n",
       "      <td>47.0</td>\n",
       "      <td>67.0</td>\n",
       "    </tr>\n",
       "    <tr>\n",
       "      <th>1</th>\n",
       "      <td>3.368185e+10</td>\n",
       "      <td>Samsung Galaxy J5 (Sm-J530)</td>\n",
       "      <td>2660.0</td>\n",
       "      <td>70.0</td>\n",
       "      <td>42.0</td>\n",
       "    </tr>\n",
       "    <tr>\n",
       "      <th>2</th>\n",
       "      <td>3.376063e+10</td>\n",
       "      <td>Samsung Galaxy A8 (2018)</td>\n",
       "      <td>2660.0</td>\n",
       "      <td>29.0</td>\n",
       "      <td>15.0</td>\n",
       "    </tr>\n",
       "    <tr>\n",
       "      <th>3</th>\n",
       "      <td>3.375034e+10</td>\n",
       "      <td>undefined</td>\n",
       "      <td>2660.0</td>\n",
       "      <td>29.0</td>\n",
       "      <td>88.0</td>\n",
       "    </tr>\n",
       "    <tr>\n",
       "      <th>4</th>\n",
       "      <td>3.369980e+10</td>\n",
       "      <td>Samsung Sm-G390F</td>\n",
       "      <td>2660.0</td>\n",
       "      <td>29.0</td>\n",
       "      <td>15.0</td>\n",
       "    </tr>\n",
       "  </tbody>\n",
       "</table>\n",
       "</div>"
      ],
      "text/plain": [
       "   MSISDN/Number                 Handset Type  TCP_Rtms   RTT  Throughput\n",
       "0   3.366496e+10   Samsung Galaxy A5 Sm-A520F    2660.0  47.0        67.0\n",
       "1   3.368185e+10  Samsung Galaxy J5 (Sm-J530)    2660.0  70.0        42.0\n",
       "2   3.376063e+10     Samsung Galaxy A8 (2018)    2660.0  29.0        15.0\n",
       "3   3.375034e+10                    undefined    2660.0  29.0        88.0\n",
       "4   3.369980e+10             Samsung Sm-G390F    2660.0  29.0        15.0"
      ]
     },
     "execution_count": 8,
     "metadata": {},
     "output_type": "execute_result"
    }
   ],
   "source": [
    "df.head()"
   ]
  },
  {
   "cell_type": "code",
   "execution_count": 9,
   "metadata": {},
   "outputs": [
    {
     "data": {
      "text/plain": [
       "MSISDN/Number    0\n",
       "Handset Type     0\n",
       "TCP_Rtms         0\n",
       "RTT              0\n",
       "Throughput       0\n",
       "dtype: int64"
      ]
     },
     "execution_count": 9,
     "metadata": {},
     "output_type": "execute_result"
    }
   ],
   "source": [
    "# confriming that there are no missing values after replacing them with the mode\n",
    "df.isna().sum()"
   ]
  },
  {
   "cell_type": "code",
   "execution_count": 10,
   "metadata": {},
   "outputs": [
    {
     "data": {
      "text/html": [
       "<div>\n",
       "<style scoped>\n",
       "    .dataframe tbody tr th:only-of-type {\n",
       "        vertical-align: middle;\n",
       "    }\n",
       "\n",
       "    .dataframe tbody tr th {\n",
       "        vertical-align: top;\n",
       "    }\n",
       "\n",
       "    .dataframe thead th {\n",
       "        text-align: right;\n",
       "    }\n",
       "</style>\n",
       "<table border=\"1\" class=\"dataframe\">\n",
       "  <thead>\n",
       "    <tr style=\"text-align: right;\">\n",
       "      <th></th>\n",
       "      <th>Handset Type</th>\n",
       "      <th>TCP_Rtms</th>\n",
       "      <th>RTT</th>\n",
       "      <th>Throughput</th>\n",
       "    </tr>\n",
       "    <tr>\n",
       "      <th>MSISDN/Number</th>\n",
       "      <th></th>\n",
       "      <th></th>\n",
       "      <th></th>\n",
       "      <th></th>\n",
       "    </tr>\n",
       "  </thead>\n",
       "  <tbody>\n",
       "    <tr>\n",
       "      <th>3.366496e+10</th>\n",
       "      <td>Samsung Galaxy A5 Sm-A520F</td>\n",
       "      <td>2660.0</td>\n",
       "      <td>47.0</td>\n",
       "      <td>67.0</td>\n",
       "    </tr>\n",
       "    <tr>\n",
       "      <th>3.368185e+10</th>\n",
       "      <td>Samsung Galaxy J5 (Sm-J530)</td>\n",
       "      <td>2660.0</td>\n",
       "      <td>70.0</td>\n",
       "      <td>42.0</td>\n",
       "    </tr>\n",
       "    <tr>\n",
       "      <th>3.376063e+10</th>\n",
       "      <td>Samsung Galaxy A8 (2018)</td>\n",
       "      <td>2660.0</td>\n",
       "      <td>29.0</td>\n",
       "      <td>15.0</td>\n",
       "    </tr>\n",
       "    <tr>\n",
       "      <th>3.375034e+10</th>\n",
       "      <td>undefined</td>\n",
       "      <td>2660.0</td>\n",
       "      <td>29.0</td>\n",
       "      <td>88.0</td>\n",
       "    </tr>\n",
       "    <tr>\n",
       "      <th>3.369980e+10</th>\n",
       "      <td>Samsung Sm-G390F</td>\n",
       "      <td>2660.0</td>\n",
       "      <td>29.0</td>\n",
       "      <td>15.0</td>\n",
       "    </tr>\n",
       "    <tr>\n",
       "      <th>...</th>\n",
       "      <td>...</td>\n",
       "      <td>...</td>\n",
       "      <td>...</td>\n",
       "      <td>...</td>\n",
       "    </tr>\n",
       "    <tr>\n",
       "      <th>3.365069e+10</th>\n",
       "      <td>Apple iPhone 8 Plus (A1897)</td>\n",
       "      <td>2660.0</td>\n",
       "      <td>32.0</td>\n",
       "      <td>117.0</td>\n",
       "    </tr>\n",
       "    <tr>\n",
       "      <th>3.366345e+10</th>\n",
       "      <td>Apple iPhone Se (A1723)</td>\n",
       "      <td>2660.0</td>\n",
       "      <td>29.0</td>\n",
       "      <td>77.0</td>\n",
       "    </tr>\n",
       "    <tr>\n",
       "      <th>3.362189e+10</th>\n",
       "      <td>Apple iPhone Xs (A2097)</td>\n",
       "      <td>2660.0</td>\n",
       "      <td>49.0</td>\n",
       "      <td>90.0</td>\n",
       "    </tr>\n",
       "    <tr>\n",
       "      <th>3.361962e+10</th>\n",
       "      <td>Huawei Fig-Lx1</td>\n",
       "      <td>2660.0</td>\n",
       "      <td>42.0</td>\n",
       "      <td>71.0</td>\n",
       "    </tr>\n",
       "    <tr>\n",
       "      <th>3.362632e+10</th>\n",
       "      <td>Huawei B528S-23A</td>\n",
       "      <td>2660.0</td>\n",
       "      <td>29.0</td>\n",
       "      <td>63.0</td>\n",
       "    </tr>\n",
       "  </tbody>\n",
       "</table>\n",
       "<p>150001 rows × 4 columns</p>\n",
       "</div>"
      ],
      "text/plain": [
       "                              Handset Type  TCP_Rtms   RTT  Throughput\n",
       "MSISDN/Number                                                         \n",
       "3.366496e+10    Samsung Galaxy A5 Sm-A520F    2660.0  47.0        67.0\n",
       "3.368185e+10   Samsung Galaxy J5 (Sm-J530)    2660.0  70.0        42.0\n",
       "3.376063e+10      Samsung Galaxy A8 (2018)    2660.0  29.0        15.0\n",
       "3.375034e+10                     undefined    2660.0  29.0        88.0\n",
       "3.369980e+10              Samsung Sm-G390F    2660.0  29.0        15.0\n",
       "...                                    ...       ...   ...         ...\n",
       "3.365069e+10   Apple iPhone 8 Plus (A1897)    2660.0  32.0       117.0\n",
       "3.366345e+10       Apple iPhone Se (A1723)    2660.0  29.0        77.0\n",
       "3.362189e+10       Apple iPhone Xs (A2097)    2660.0  49.0        90.0\n",
       "3.361962e+10                Huawei Fig-Lx1    2660.0  42.0        71.0\n",
       "3.362632e+10              Huawei B528S-23A    2660.0  29.0        63.0\n",
       "\n",
       "[150001 rows x 4 columns]"
      ]
     },
     "execution_count": 10,
     "metadata": {},
     "output_type": "execute_result"
    }
   ],
   "source": [
    "df.set_index('MSISDN/Number')"
   ]
  },
  {
   "cell_type": "code",
   "execution_count": 82,
   "metadata": {},
   "outputs": [],
   "source": [
    "#make a copy to work with\n",
    "dff = df.copy()\n",
    "drt = df.copy()\n",
    "dfh = df.copy()\n",
    "dfth = df.copy()\n",
    "cdf = df.copy()"
   ]
  },
  {
   "cell_type": "code",
   "execution_count": 14,
   "metadata": {},
   "outputs": [],
   "source": [
    "# 3.1 Averages and counts per customer\n",
    "tcp = dff.groupby('MSISDN/Number')['TCP_Rtms'].mean()\n",
    "rtt = drt.groupby('MSISDN/Number')['RTT'].mean()\n",
    "thrput = dfth.groupby('MSISDN/Number')['Throughput'].mean()\n",
    "dfc = dfh.groupby('MSISDN/Number')['Handset Type'].value_counts()"
   ]
  },
  {
   "cell_type": "markdown",
   "metadata": {},
   "source": [
    "## 3.2 Top 10, bottom 10 and most frequent"
   ]
  },
  {
   "cell_type": "code",
   "execution_count": 20,
   "metadata": {},
   "outputs": [],
   "source": [
    "#TCP\n",
    "dff.sort_values(by=['TCP_Rtms'],inplace = True)\n",
    "top10 = dff.head(10)['TCP_Rtms']\n",
    "bot10 = dff.tail(10)['TCP_Rtms']\n",
    "mod = dff['TCP_Rtms'].mode()"
   ]
  },
  {
   "cell_type": "code",
   "execution_count": 24,
   "metadata": {},
   "outputs": [],
   "source": [
    "#RTT\n",
    "drt.sort_values(by=['RTT'],inplace = True)\n",
    "top10 = drt.head(10)['RTT']\n",
    "bot10 = drt.tail(10)['RTT']\n",
    "mod = drt['TCP_Rtms'].mode()"
   ]
  },
  {
   "cell_type": "code",
   "execution_count": 30,
   "metadata": {},
   "outputs": [],
   "source": [
    "# Throughput \n",
    "dfth.sort_values(by=['Throughput'],inplace = True)\n",
    "top10 = dfth.head(10)['Throughput']\n",
    "bot10 = dfth.tail(10)['Throughput']\n",
    "mod = dfth['Throughput'].mode()"
   ]
  },
  {
   "cell_type": "markdown",
   "metadata": {},
   "source": [
    "## 3.3 Computations"
   ]
  },
  {
   "cell_type": "code",
   "execution_count": 31,
   "metadata": {},
   "outputs": [
    {
     "data": {
      "text/plain": [
       "Text(0.5, 1.0, 'Avg throughput distribution per handset type')"
      ]
     },
     "execution_count": 31,
     "metadata": {},
     "output_type": "execute_result"
    },
    {
     "data": {
      "image/png": "[encoded data removed]",
      "text/plain": [
       "<Figure size 432x288 with 1 Axes>"
      ]
     },
     "metadata": {},
     "output_type": "display_data"
    }
   ],
   "source": [
    "# Distribution of average throughput per handset type\n",
    "dfh.groupby('Handset Type')['Throughput'].mean().hist()\n",
    "plt.xlabel('Handset Type')\n",
    "plt.ylabel('average throughput')\n",
    "plt.title('Avg throughput distribution per handset type')"
   ]
  },
  {
   "cell_type": "markdown",
   "metadata": {},
   "source": [
    "The distribution shows that the average distribution of throughput per handset is not normal. It shows a right tailed distribution"
   ]
  },
  {
   "cell_type": "code",
   "execution_count": 35,
   "metadata": {},
   "outputs": [
    {
     "data": {
      "text/plain": [
       "Text(0.5, 1.0, 'Avg TCP distribution per handset type')"
      ]
     },
     "execution_count": 35,
     "metadata": {},
     "output_type": "execute_result"
    },
    {
     "data": {
      "image/png": "[encoded data removed]",
      "text/plain": [
       "<Figure size 432x288 with 1 Axes>"
      ]
     },
     "metadata": {},
     "output_type": "display_data"
    }
   ],
   "source": [
    "# Distribution of average TCP per handset type\n",
    "drt.groupby('Handset Type')['TCP_Rtms'].mean().hist()\n",
    "plt.xlabel('Handset Type')\n",
    "plt.ylabel('average TCP')\n",
    "plt.title('Avg TCP distribution per handset type')"
   ]
  },
  {
   "cell_type": "markdown",
   "metadata": {},
   "source": [
    "The distribution plot of the average TCP distribution by handset type is also not normally distributed. It shows a right tail skewness"
   ]
  },
  {
   "cell_type": "code",
   "execution_count": 83,
   "metadata": {},
   "outputs": [],
   "source": [
    "wdat = cdf.iloc[:, 2:]\n",
    "#wdat.set_index('TCP_Rtms', inplace = True)"
   ]
  },
  {
   "cell_type": "code",
   "execution_count": 85,
   "metadata": {},
   "outputs": [
    {
     "data": {
      "text/html": [
       "<div>\n",
       "<style scoped>\n",
       "    .dataframe tbody tr th:only-of-type {\n",
       "        vertical-align: middle;\n",
       "    }\n",
       "\n",
       "    .dataframe tbody tr th {\n",
       "        vertical-align: top;\n",
       "    }\n",
       "\n",
       "    .dataframe thead th {\n",
       "        text-align: right;\n",
       "    }\n",
       "</style>\n",
       "<table border=\"1\" class=\"dataframe\">\n",
       "  <thead>\n",
       "    <tr style=\"text-align: right;\">\n",
       "      <th></th>\n",
       "      <th>TCP_Rtms</th>\n",
       "      <th>RTT</th>\n",
       "      <th>Throughput</th>\n",
       "    </tr>\n",
       "  </thead>\n",
       "  <tbody>\n",
       "    <tr>\n",
       "      <th>0</th>\n",
       "      <td>2660.0</td>\n",
       "      <td>47.0</td>\n",
       "      <td>67.0</td>\n",
       "    </tr>\n",
       "    <tr>\n",
       "      <th>1</th>\n",
       "      <td>2660.0</td>\n",
       "      <td>70.0</td>\n",
       "      <td>42.0</td>\n",
       "    </tr>\n",
       "    <tr>\n",
       "      <th>2</th>\n",
       "      <td>2660.0</td>\n",
       "      <td>29.0</td>\n",
       "      <td>15.0</td>\n",
       "    </tr>\n",
       "    <tr>\n",
       "      <th>3</th>\n",
       "      <td>2660.0</td>\n",
       "      <td>29.0</td>\n",
       "      <td>88.0</td>\n",
       "    </tr>\n",
       "    <tr>\n",
       "      <th>4</th>\n",
       "      <td>2660.0</td>\n",
       "      <td>29.0</td>\n",
       "      <td>15.0</td>\n",
       "    </tr>\n",
       "  </tbody>\n",
       "</table>\n",
       "</div>"
      ],
      "text/plain": [
       "   TCP_Rtms   RTT  Throughput\n",
       "0    2660.0  47.0        67.0\n",
       "1    2660.0  70.0        42.0\n",
       "2    2660.0  29.0        15.0\n",
       "3    2660.0  29.0        88.0\n",
       "4    2660.0  29.0        15.0"
      ]
     },
     "execution_count": 85,
     "metadata": {},
     "output_type": "execute_result"
    }
   ],
   "source": [
    "wdat.head()"
   ]
  },
  {
   "cell_type": "code",
   "execution_count": 77,
   "metadata": {},
   "outputs": [],
   "source": [
    "# labelencoder = LabelEncoder()\n",
    "# col = wdat['Handset Type']\n",
    "\n",
    "# cdf= wdat.apply(lambda col: labelencoder.fit_transform(col.astype(str)), axis=0, result_type='expand')\n",
    "# #newdat = preprocessing.normalize(cdf, norm='l2')"
   ]
  },
  {
   "cell_type": "code",
   "execution_count": 86,
   "metadata": {},
   "outputs": [],
   "source": [
    "newdat = preprocessing.normalize(wdat, norm='l2')\n",
    "dataset = pd.DataFrame({'TCP_Rtms': newdat[:,0], 'RTT':newdat[:,1],'Throughput':newdat[:,2]}) "
   ]
  },
  {
   "cell_type": "code",
   "execution_count": 87,
   "metadata": {},
   "outputs": [
    {
     "data": {
      "text/plain": [
       "array([[0.99952702, 0.01766082, 0.02517606],\n",
       "       [0.99952942, 0.02630341, 0.01578204],\n",
       "       [0.99992468, 0.01090143, 0.00563867],\n",
       "       ...,\n",
       "       [0.99925877, 0.0184074 , 0.03380951],\n",
       "       [0.99951947, 0.01578189, 0.0266789 ],\n",
       "       [0.99966027, 0.01089855, 0.02367616]])"
      ]
     },
     "execution_count": 87,
     "metadata": {},
     "output_type": "execute_result"
    }
   ],
   "source": [
    "newdat"
   ]
  },
  {
   "cell_type": "code",
   "execution_count": 93,
   "metadata": {},
   "outputs": [
    {
     "data": {
      "image/png": "[encoded data removed]",
      "text/plain": [
       "<Figure size 432x288 with 2 Axes>"
      ]
     },
     "metadata": {},
     "output_type": "display_data"
    }
   ],
   "source": [
    "kmeans = KMeans(3)\n",
    "identified_cluster = kmeans.fit_predict(newdat)\n",
    "\n",
    "data_wt_clusters = dataset.copy()\n",
    "data_wt_clusters['clusters'] = identified_cluster\n",
    "fig =plt.figure()\n",
    "#ax = Axes3D(fig, rect=[0, 0, .95, 1], elev=48, azim=134)\n",
    "#ax = fig.add_subplot(111,projection='3d')\n",
    "ax = Axes3D(fig, rect=[1, 1, 1, 1], elev=48, azim=200)\n",
    "\n",
    "x = data_wt_clusters['TCP_Rtms']\n",
    "y = data_wt_clusters['RTT']\n",
    "z = data_wt_clusters['Throughput']\n",
    "\n",
    "img = ax.scatter(x,y,z, cmap=plt.hot())\n",
    "fig.colorbar(img)\n",
    "plt.show()"
   ]
  },
  {
   "cell_type": "markdown",
   "metadata": {},
   "source": [
    "The output of the cluster is really not clear to derive any meaningful insights the fact that, one of the clusters has more members than the other two clusters\n"
   ]
  },
  {
   "cell_type": "code",
   "execution_count": null,
   "metadata": {},
   "outputs": [],
   "source": []
  }
 ],
 "metadata": {
  "kernelspec": {
   "display_name": "Python 3",
   "language": "python",
   "name": "python3"
  },
  "language_info": {
   "codemirror_mode": {
    "name": "ipython",
    "version": 3
   },
   "file_extension": ".py",
   "mimetype": "text/x-python",
   "name": "python",
   "nbconvert_exporter": "python",
   "pygments_lexer": "ipython3",
   "version": "3.7.6"
  }
 },
 "nbformat": 4,
 "nbformat_minor": 4
}
