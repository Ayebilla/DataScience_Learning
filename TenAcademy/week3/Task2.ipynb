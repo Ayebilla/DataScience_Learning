{
 "cells": [
  {
   "cell_type": "code",
   "execution_count": 1,
   "metadata": {},
   "outputs": [],
   "source": [
    "import numpy as np\n",
    "import pandas as pd\n",
    "import matplotlib.pyplot as plt\n",
    "import seaborn as sns\n",
    "from sklearn.preprocessing import StandardScaler\n",
    "from sklearn.preprocessing import LabelEncoder\n",
    "from sklearn.decomposition import PCA\n",
    "from sklearn import preprocessing\n",
    "from sklearn.cluster import KMeans\n",
    "from mpl_toolkits.mplot3d import Axes3D\n",
    "import re\n",
    "sns.set()"
   ]
  },
  {
   "cell_type": "code",
   "execution_count": 2,
   "metadata": {},
   "outputs": [],
   "source": [
    "data = pd.read_excel('week2_challenge_data_source.xlsx')"
   ]
  },
  {
   "cell_type": "code",
   "execution_count": 8,
   "metadata": {},
   "outputs": [
    {
     "name": "stdout",
     "output_type": "stream",
     "text": [
      "<class 'pandas.core.frame.DataFrame'>\n",
      "RangeIndex: 150001 entries, 0 to 150000\n",
      "Data columns (total 55 columns):\n",
      " #   Column                                    Non-Null Count   Dtype         \n",
      "---  ------                                    --------------   -----         \n",
      " 0   Bearer Id                                 150001 non-null  object        \n",
      " 1   Start                                     150000 non-null  datetime64[ns]\n",
      " 2   Start ms                                  150000 non-null  float64       \n",
      " 3   End                                       150000 non-null  datetime64[ns]\n",
      " 4   End ms                                    150000 non-null  float64       \n",
      " 5   Dur. (ms)                                 150000 non-null  float64       \n",
      " 6   IMSI                                      149431 non-null  float64       \n",
      " 7   MSISDN/Number                             148935 non-null  float64       \n",
      " 8   IMEI                                      149429 non-null  float64       \n",
      " 9   Last Location Name                        148848 non-null  object        \n",
      " 10  Avg RTT DL (ms)                           122172 non-null  float64       \n",
      " 11  Avg RTT UL (ms)                           122189 non-null  float64       \n",
      " 12  Avg Bearer TP DL (kbps)                   150000 non-null  float64       \n",
      " 13  Avg Bearer TP UL (kbps)                   150000 non-null  float64       \n",
      " 14  TCP DL Retrans. Vol (Bytes)               61855 non-null   float64       \n",
      " 15  TCP UL Retrans. Vol (Bytes)               53352 non-null   float64       \n",
      " 16  DL TP < 50 Kbps (%)                       149247 non-null  float64       \n",
      " 17  50 Kbps < DL TP < 250 Kbps (%)            149247 non-null  float64       \n",
      " 18  250 Kbps < DL TP < 1 Mbps (%)             149247 non-null  float64       \n",
      " 19  DL TP > 1 Mbps (%)                        149247 non-null  float64       \n",
      " 20  UL TP < 10 Kbps (%)                       149209 non-null  float64       \n",
      " 21  10 Kbps < UL TP < 50 Kbps (%)             149209 non-null  float64       \n",
      " 22  50 Kbps < UL TP < 300 Kbps (%)            149209 non-null  float64       \n",
      " 23  UL TP > 300 Kbps (%)                      149209 non-null  float64       \n",
      " 24  HTTP DL (Bytes)                           68527 non-null   float64       \n",
      " 25  HTTP UL (Bytes)                           68191 non-null   float64       \n",
      " 26  Activity Duration DL (ms)                 150000 non-null  float64       \n",
      " 27  Activity Duration UL (ms)                 150000 non-null  float64       \n",
      " 28  Dur. (ms).1                               150000 non-null  float64       \n",
      " 29  Handset Manufacturer                      149429 non-null  object        \n",
      " 30  Handset Type                              149429 non-null  object        \n",
      " 31  Nb of sec with 125000B < Vol DL           52463 non-null   float64       \n",
      " 32  Nb of sec with 1250B < Vol UL < 6250B     57107 non-null   float64       \n",
      " 33  Nb of sec with 31250B < Vol DL < 125000B  56415 non-null   float64       \n",
      " 34  Nb of sec with 37500B < Vol UL            19747 non-null   float64       \n",
      " 35  Nb of sec with 6250B < Vol DL < 31250B    61684 non-null   float64       \n",
      " 36  Nb of sec with 6250B < Vol UL < 37500B    38158 non-null   float64       \n",
      " 37  Nb of sec with Vol DL < 6250B             149246 non-null  float64       \n",
      " 38  Nb of sec with Vol UL < 1250B             149208 non-null  float64       \n",
      " 39  Social Media DL (Bytes)                   150001 non-null  float64       \n",
      " 40  Social Media UL (Bytes)                   150001 non-null  float64       \n",
      " 41  Google DL (Bytes)                         150001 non-null  float64       \n",
      " 42  Google UL (Bytes)                         150001 non-null  float64       \n",
      " 43  Email DL (Bytes)                          150001 non-null  float64       \n",
      " 44  Email UL (Bytes)                          150001 non-null  float64       \n",
      " 45  Youtube DL (Bytes)                        150001 non-null  float64       \n",
      " 46  Youtube UL (Bytes)                        150001 non-null  float64       \n",
      " 47  Netflix DL (Bytes)                        150001 non-null  float64       \n",
      " 48  Netflix UL (Bytes)                        150001 non-null  float64       \n",
      " 49  Gaming DL (Bytes)                         150001 non-null  float64       \n",
      " 50  Gaming UL (Bytes)                         150001 non-null  float64       \n",
      " 51  Other DL (Bytes)                          150001 non-null  float64       \n",
      " 52  Other UL (Bytes)                          150001 non-null  float64       \n",
      " 53  Total UL (Bytes)                          150000 non-null  float64       \n",
      " 54  Total DL (Bytes)                          150000 non-null  float64       \n",
      "dtypes: datetime64[ns](2), float64(49), object(4)\n",
      "memory usage: 62.9+ MB\n"
     ]
    }
   ],
   "source": [
    "data.info()"
   ]
  },
  {
   "cell_type": "code",
   "execution_count": 3,
   "metadata": {},
   "outputs": [],
   "source": [
    "dat = data.copy()"
   ]
  },
  {
   "cell_type": "code",
   "execution_count": 4,
   "metadata": {},
   "outputs": [],
   "source": [
    "da = data.copy()"
   ]
  },
  {
   "cell_type": "code",
   "execution_count": 5,
   "metadata": {},
   "outputs": [],
   "source": [
    "telcomdata = data.copy()"
   ]
  },
  {
   "cell_type": "code",
   "execution_count": 7,
   "metadata": {},
   "outputs": [
    {
     "data": {
      "text/html": [
       "<div>\n",
       "<style scoped>\n",
       "    .dataframe tbody tr th:only-of-type {\n",
       "        vertical-align: middle;\n",
       "    }\n",
       "\n",
       "    .dataframe tbody tr th {\n",
       "        vertical-align: top;\n",
       "    }\n",
       "\n",
       "    .dataframe thead th {\n",
       "        text-align: right;\n",
       "    }\n",
       "</style>\n",
       "<table border=\"1\" class=\"dataframe\">\n",
       "  <thead>\n",
       "    <tr style=\"text-align: right;\">\n",
       "      <th></th>\n",
       "      <th>MSISDN/Number</th>\n",
       "      <th>frequency</th>\n",
       "    </tr>\n",
       "  </thead>\n",
       "  <tbody>\n",
       "    <tr>\n",
       "      <th>50161</th>\n",
       "      <td>3.362632e+10</td>\n",
       "      <td>18.0</td>\n",
       "    </tr>\n",
       "    <tr>\n",
       "      <th>56316</th>\n",
       "      <td>3.362632e+10</td>\n",
       "      <td>18.0</td>\n",
       "    </tr>\n",
       "    <tr>\n",
       "      <th>50321</th>\n",
       "      <td>3.362632e+10</td>\n",
       "      <td>18.0</td>\n",
       "    </tr>\n",
       "    <tr>\n",
       "      <th>50013</th>\n",
       "      <td>3.362632e+10</td>\n",
       "      <td>18.0</td>\n",
       "    </tr>\n",
       "    <tr>\n",
       "      <th>50014</th>\n",
       "      <td>3.362632e+10</td>\n",
       "      <td>18.0</td>\n",
       "    </tr>\n",
       "    <tr>\n",
       "      <th>51642</th>\n",
       "      <td>3.362632e+10</td>\n",
       "      <td>18.0</td>\n",
       "    </tr>\n",
       "    <tr>\n",
       "      <th>50023</th>\n",
       "      <td>3.362632e+10</td>\n",
       "      <td>18.0</td>\n",
       "    </tr>\n",
       "    <tr>\n",
       "      <th>50029</th>\n",
       "      <td>3.362632e+10</td>\n",
       "      <td>18.0</td>\n",
       "    </tr>\n",
       "    <tr>\n",
       "      <th>50032</th>\n",
       "      <td>3.362632e+10</td>\n",
       "      <td>18.0</td>\n",
       "    </tr>\n",
       "    <tr>\n",
       "      <th>53134</th>\n",
       "      <td>3.362632e+10</td>\n",
       "      <td>18.0</td>\n",
       "    </tr>\n",
       "  </tbody>\n",
       "</table>\n",
       "</div>"
      ],
      "text/plain": [
       "       MSISDN/Number  frequency\n",
       "50161   3.362632e+10       18.0\n",
       "56316   3.362632e+10       18.0\n",
       "50321   3.362632e+10       18.0\n",
       "50013   3.362632e+10       18.0\n",
       "50014   3.362632e+10       18.0\n",
       "51642   3.362632e+10       18.0\n",
       "50023   3.362632e+10       18.0\n",
       "50029   3.362632e+10       18.0\n",
       "50032   3.362632e+10       18.0\n",
       "53134   3.362632e+10       18.0"
      ]
     },
     "execution_count": 7,
     "metadata": {},
     "output_type": "execute_result"
    }
   ],
   "source": [
    "da['frequency'] = da['MSISDN/Number'].map(da['MSISDN/Number'].value_counts())\n",
    "dff = da.sort_values(by='frequency', ascending=False, na_position='last')\n",
    "\n",
    "#Top 10 customers base on total data\n",
    "dff.head(10)[['MSISDN/Number','frequency']]"
   ]
  },
  {
   "cell_type": "code",
   "execution_count": null,
   "metadata": {},
   "outputs": [],
   "source": [
    "#Sort by session duration and get the top 10 customers\n",
    "df = da.sort_values(by='Dur. (ms)', ascending=False, na_position='last')\n",
    "#Top 10 customers\n",
    "df.head(10)[['MSISDN/Number','Dur. (ms)']]"
   ]
  },
  {
   "cell_type": "code",
   "execution_count": null,
   "metadata": {},
   "outputs": [],
   "source": [
    "#Creating a column for session total traffic\n",
    "da['total'] = da['Total DL (Bytes)'] + da['Total UL (Bytes)']\n",
    "#Sort by total traffic\n",
    "df1 = da.sort_values(by='total', ascending=False, na_position='last')\n",
    "#Top 10 customers base on total data\n",
    "df1.head(10)[['MSISDN/Number','total']]"
   ]
  },
  {
   "cell_type": "markdown",
   "metadata": {},
   "source": [
    "## Preparing data for cluster analysis"
   ]
  },
  {
   "cell_type": "code",
   "execution_count": null,
   "metadata": {},
   "outputs": [],
   "source": [
    "#Filter out the metrics for normalization\n",
    "newdat = da.filter(['Dur. (ms)','total','frequency'], axis=1)\n",
    "newdat.fillna(method='ffill')\n",
    "#convert bytes to megabytes\n",
    "newdat['total'] = newdat['total']*10**-6\n",
    "\n",
    "#convert milliseconds to seconds\n",
    "newdat['Dur. (ms)'] = newdat['Dur. (ms)']*10**-3\n",
    "\n",
    "#preprocessing.normalize(newdat, norm='l2')"
   ]
  },
  {
   "cell_type": "code",
   "execution_count": 322,
   "metadata": {},
   "outputs": [],
   "source": [
    "#newdat.rename(columns={'Dur. (ms)':'Duration_in_sec'}, inplace=True)"
   ]
  },
  {
   "cell_type": "code",
   "execution_count": 323,
   "metadata": {},
   "outputs": [
    {
     "data": {
      "text/html": [
       "<div>\n",
       "<style scoped>\n",
       "    .dataframe tbody tr th:only-of-type {\n",
       "        vertical-align: middle;\n",
       "    }\n",
       "\n",
       "    .dataframe tbody tr th {\n",
       "        vertical-align: top;\n",
       "    }\n",
       "\n",
       "    .dataframe thead th {\n",
       "        text-align: right;\n",
       "    }\n",
       "</style>\n",
       "<table border=\"1\" class=\"dataframe\">\n",
       "  <thead>\n",
       "    <tr style=\"text-align: right;\">\n",
       "      <th></th>\n",
       "      <th>Dur. (ms)</th>\n",
       "      <th>total</th>\n",
       "      <th>frequency</th>\n",
       "    </tr>\n",
       "  </thead>\n",
       "  <tbody>\n",
       "    <tr>\n",
       "      <th>0</th>\n",
       "      <td>1823.652</td>\n",
       "      <td>345.629377</td>\n",
       "      <td>2.0</td>\n",
       "    </tr>\n",
       "    <tr>\n",
       "      <th>1</th>\n",
       "      <td>1365.104</td>\n",
       "      <td>707.185356</td>\n",
       "      <td>2.0</td>\n",
       "    </tr>\n",
       "    <tr>\n",
       "      <th>2</th>\n",
       "      <td>1361.762</td>\n",
       "      <td>307.690973</td>\n",
       "      <td>1.0</td>\n",
       "    </tr>\n",
       "    <tr>\n",
       "      <th>3</th>\n",
       "      <td>1321.509</td>\n",
       "      <td>889.352748</td>\n",
       "      <td>1.0</td>\n",
       "    </tr>\n",
       "    <tr>\n",
       "      <th>4</th>\n",
       "      <td>1089.009</td>\n",
       "      <td>607.681403</td>\n",
       "      <td>1.0</td>\n",
       "    </tr>\n",
       "  </tbody>\n",
       "</table>\n",
       "</div>"
      ],
      "text/plain": [
       "   Dur. (ms)       total  frequency\n",
       "0   1823.652  345.629377        2.0\n",
       "1   1365.104  707.185356        2.0\n",
       "2   1361.762  307.690973        1.0\n",
       "3   1321.509  889.352748        1.0\n",
       "4   1089.009  607.681403        1.0"
      ]
     },
     "execution_count": 323,
     "metadata": {},
     "output_type": "execute_result"
    }
   ],
   "source": [
    "newdat.head()"
   ]
  },
  {
   "cell_type": "code",
   "execution_count": 324,
   "metadata": {},
   "outputs": [],
   "source": [
    "mdat = newdat.copy()"
   ]
  },
  {
   "cell_type": "code",
   "execution_count": 325,
   "metadata": {},
   "outputs": [
    {
     "name": "stderr",
     "output_type": "stream",
     "text": [
      "C:\\Users\\Programms\\lib\\site-packages\\ipykernel_launcher.py:3: SettingWithCopyWarning: \n",
      "A value is trying to be set on a copy of a slice from a DataFrame\n",
      "\n",
      "See the caveats in the documentation: https://pandas.pydata.org/pandas-docs/stable/user_guide/indexing.html#returning-a-view-versus-a-copy\n",
      "  This is separate from the ipykernel package so we can avoid doing imports until\n"
     ]
    }
   ],
   "source": [
    "#Replace white spaces with np.NaN for \n",
    "for i in newdat.columns:\n",
    "    da[i][da[i].apply(lambda i: True if re.search('^\\s*$', str(i)) else False)]=None \n",
    "# replace na using forward fill method for session id column\n",
    "newdat.fillna(method ='ffill', inplace = True)"
   ]
  },
  {
   "cell_type": "code",
   "execution_count": 326,
   "metadata": {},
   "outputs": [],
   "source": [
    "newdat = preprocessing.normalize(newdat, norm='l2')"
   ]
  },
  {
   "cell_type": "code",
   "execution_count": 327,
   "metadata": {},
   "outputs": [
    {
     "data": {
      "text/plain": [
       "array([[9.82509189e-01, 1.86210987e-01, 1.07751829e-03],\n",
       "       [8.87925520e-01, 4.59985411e-01, 1.30089066e-03],\n",
       "       [9.75410529e-01, 2.20394617e-01, 7.16285613e-04],\n",
       "       ...,\n",
       "       [1.54639553e-01, 9.87969702e-01, 1.57395549e-03],\n",
       "       [2.36904789e-01, 9.71529859e-01, 2.41961790e-03],\n",
       "       [2.36904789e-01, 9.71529859e-01, 2.41961790e-03]])"
      ]
     },
     "execution_count": 327,
     "metadata": {},
     "output_type": "execute_result"
    }
   ],
   "source": [
    "#Normalization output\n",
    "newdat"
   ]
  },
  {
   "cell_type": "code",
   "execution_count": 328,
   "metadata": {},
   "outputs": [],
   "source": [
    "#convert normalized data back to data frame\n",
    "dataset = pd.DataFrame({'Duration_in_sec': newdat[:, 0], 'total': newdat[:,1], 'frequency':newdat[:,2]}) "
   ]
  },
  {
   "cell_type": "code",
   "execution_count": 329,
   "metadata": {},
   "outputs": [
    {
     "data": {
      "text/html": [
       "<div>\n",
       "<style scoped>\n",
       "    .dataframe tbody tr th:only-of-type {\n",
       "        vertical-align: middle;\n",
       "    }\n",
       "\n",
       "    .dataframe tbody tr th {\n",
       "        vertical-align: top;\n",
       "    }\n",
       "\n",
       "    .dataframe thead th {\n",
       "        text-align: right;\n",
       "    }\n",
       "</style>\n",
       "<table border=\"1\" class=\"dataframe\">\n",
       "  <thead>\n",
       "    <tr style=\"text-align: right;\">\n",
       "      <th></th>\n",
       "      <th>Duration_in_sec</th>\n",
       "      <th>total</th>\n",
       "      <th>frequency</th>\n",
       "    </tr>\n",
       "  </thead>\n",
       "  <tbody>\n",
       "    <tr>\n",
       "      <th>0</th>\n",
       "      <td>0.982509</td>\n",
       "      <td>0.186211</td>\n",
       "      <td>0.001078</td>\n",
       "    </tr>\n",
       "    <tr>\n",
       "      <th>1</th>\n",
       "      <td>0.887926</td>\n",
       "      <td>0.459985</td>\n",
       "      <td>0.001301</td>\n",
       "    </tr>\n",
       "    <tr>\n",
       "      <th>2</th>\n",
       "      <td>0.975411</td>\n",
       "      <td>0.220395</td>\n",
       "      <td>0.000716</td>\n",
       "    </tr>\n",
       "    <tr>\n",
       "      <th>3</th>\n",
       "      <td>0.829624</td>\n",
       "      <td>0.558322</td>\n",
       "      <td>0.000628</td>\n",
       "    </tr>\n",
       "    <tr>\n",
       "      <th>4</th>\n",
       "      <td>0.873244</td>\n",
       "      <td>0.487282</td>\n",
       "      <td>0.000802</td>\n",
       "    </tr>\n",
       "  </tbody>\n",
       "</table>\n",
       "</div>"
      ],
      "text/plain": [
       "   Duration_in_sec     total  frequency\n",
       "0         0.982509  0.186211   0.001078\n",
       "1         0.887926  0.459985   0.001301\n",
       "2         0.975411  0.220395   0.000716\n",
       "3         0.829624  0.558322   0.000628\n",
       "4         0.873244  0.487282   0.000802"
      ]
     },
     "execution_count": 329,
     "metadata": {},
     "output_type": "execute_result"
    }
   ],
   "source": [
    "dataset.head()"
   ]
  },
  {
   "cell_type": "code",
   "execution_count": 330,
   "metadata": {},
   "outputs": [
    {
     "data": {
      "image/png": "[encoded data removed]",
      "text/plain": [
       "<Figure size 432x288 with 2 Axes>"
      ]
     },
     "metadata": {},
     "output_type": "display_data"
    }
   ],
   "source": [
    "#K-mean clustering and visualization\n",
    "kmeans = KMeans(3)\n",
    "identified_cluster = kmeans.fit_predict(newdat)\n",
    "identified_cluster\n",
    "\n",
    "data_wt_clusters = dataset.copy()\n",
    "data_wt_clusters['clusters'] = identified_cluster\n",
    "fig =plt.figure()\n",
    "#ax = Axes3D(fig, rect=[0, 0, .95, 1], elev=48, azim=134)\n",
    "#ax = fig.add_subplot(111,projection='3d')\n",
    "ax = Axes3D(fig, rect=[1, 2, 2, 2], elev=48, azim=200)\n",
    "\n",
    "x = data_wt_clusters['Duration_in_sec']\n",
    "y = data_wt_clusters['total']\n",
    "z = data_wt_clusters['frequency']\n",
    "\n",
    "img = ax.scatter(x,y,z, cmap=plt.hot())\n",
    "fig.colorbar(img)\n",
    "plt.show()\n"
   ]
  },
  {
   "cell_type": "code",
   "execution_count": 280,
   "metadata": {},
   "outputs": [
    {
     "data": {
      "text/plain": [
       "array([2, 2, 2, ..., 0, 0, 0])"
      ]
     },
     "execution_count": 280,
     "metadata": {},
     "output_type": "execute_result"
    }
   ],
   "source": [
    "#cluster labels\n",
    "identified_cluster"
   ]
  },
  {
   "cell_type": "code",
   "execution_count": null,
   "metadata": {},
   "outputs": [],
   "source": [
    "# Computing various statics of the non-normalized clusters\n"
   ]
  },
  {
   "cell_type": "code",
   "execution_count": 331,
   "metadata": {},
   "outputs": [
    {
     "data": {
      "text/html": [
       "<div>\n",
       "<style scoped>\n",
       "    .dataframe tbody tr th:only-of-type {\n",
       "        vertical-align: middle;\n",
       "    }\n",
       "\n",
       "    .dataframe tbody tr th {\n",
       "        vertical-align: top;\n",
       "    }\n",
       "\n",
       "    .dataframe thead th {\n",
       "        text-align: right;\n",
       "    }\n",
       "</style>\n",
       "<table border=\"1\" class=\"dataframe\">\n",
       "  <thead>\n",
       "    <tr style=\"text-align: right;\">\n",
       "      <th></th>\n",
       "      <th>Dur. (ms)</th>\n",
       "      <th>total</th>\n",
       "      <th>frequency</th>\n",
       "    </tr>\n",
       "  </thead>\n",
       "  <tbody>\n",
       "    <tr>\n",
       "      <th>0</th>\n",
       "      <td>1823.652</td>\n",
       "      <td>345.629377</td>\n",
       "      <td>2.0</td>\n",
       "    </tr>\n",
       "    <tr>\n",
       "      <th>1</th>\n",
       "      <td>1365.104</td>\n",
       "      <td>707.185356</td>\n",
       "      <td>2.0</td>\n",
       "    </tr>\n",
       "    <tr>\n",
       "      <th>2</th>\n",
       "      <td>1361.762</td>\n",
       "      <td>307.690973</td>\n",
       "      <td>1.0</td>\n",
       "    </tr>\n",
       "    <tr>\n",
       "      <th>3</th>\n",
       "      <td>1321.509</td>\n",
       "      <td>889.352748</td>\n",
       "      <td>1.0</td>\n",
       "    </tr>\n",
       "    <tr>\n",
       "      <th>4</th>\n",
       "      <td>1089.009</td>\n",
       "      <td>607.681403</td>\n",
       "      <td>1.0</td>\n",
       "    </tr>\n",
       "  </tbody>\n",
       "</table>\n",
       "</div>"
      ],
      "text/plain": [
       "   Dur. (ms)       total  frequency\n",
       "0   1823.652  345.629377        2.0\n",
       "1   1365.104  707.185356        2.0\n",
       "2   1361.762  307.690973        1.0\n",
       "3   1321.509  889.352748        1.0\n",
       "4   1089.009  607.681403        1.0"
      ]
     },
     "execution_count": 331,
     "metadata": {},
     "output_type": "execute_result"
    }
   ],
   "source": [
    "mdat.head()"
   ]
  },
  {
   "cell_type": "code",
   "execution_count": 332,
   "metadata": {},
   "outputs": [
    {
     "data": {
      "text/html": [
       "<div>\n",
       "<style scoped>\n",
       "    .dataframe tbody tr th:only-of-type {\n",
       "        vertical-align: middle;\n",
       "    }\n",
       "\n",
       "    .dataframe tbody tr th {\n",
       "        vertical-align: top;\n",
       "    }\n",
       "\n",
       "    .dataframe thead th {\n",
       "        text-align: right;\n",
       "    }\n",
       "</style>\n",
       "<table border=\"1\" class=\"dataframe\">\n",
       "  <thead>\n",
       "    <tr style=\"text-align: right;\">\n",
       "      <th></th>\n",
       "      <th>Dur. (ms)</th>\n",
       "      <th>total</th>\n",
       "      <th>frequency</th>\n",
       "    </tr>\n",
       "  </thead>\n",
       "  <tbody>\n",
       "    <tr>\n",
       "      <th>count</th>\n",
       "      <td>150000.000000</td>\n",
       "      <td>150000.000000</td>\n",
       "      <td>148935.000000</td>\n",
       "    </tr>\n",
       "    <tr>\n",
       "      <th>mean</th>\n",
       "      <td>104.608560</td>\n",
       "      <td>495.764636</td>\n",
       "      <td>1.859905</td>\n",
       "    </tr>\n",
       "    <tr>\n",
       "      <th>std</th>\n",
       "      <td>81.037621</td>\n",
       "      <td>244.381802</td>\n",
       "      <td>1.300876</td>\n",
       "    </tr>\n",
       "    <tr>\n",
       "      <th>min</th>\n",
       "      <td>7.142000</td>\n",
       "      <td>28.956107</td>\n",
       "      <td>1.000000</td>\n",
       "    </tr>\n",
       "    <tr>\n",
       "      <th>25%</th>\n",
       "      <td>57.440500</td>\n",
       "      <td>284.475924</td>\n",
       "      <td>1.000000</td>\n",
       "    </tr>\n",
       "    <tr>\n",
       "      <th>50%</th>\n",
       "      <td>86.399000</td>\n",
       "      <td>496.861102</td>\n",
       "      <td>1.000000</td>\n",
       "    </tr>\n",
       "    <tr>\n",
       "      <th>75%</th>\n",
       "      <td>132.430250</td>\n",
       "      <td>706.505882</td>\n",
       "      <td>2.000000</td>\n",
       "    </tr>\n",
       "    <tr>\n",
       "      <th>max</th>\n",
       "      <td>1859.336000</td>\n",
       "      <td>955.984776</td>\n",
       "      <td>18.000000</td>\n",
       "    </tr>\n",
       "  </tbody>\n",
       "</table>\n",
       "</div>"
      ],
      "text/plain": [
       "           Dur. (ms)          total      frequency\n",
       "count  150000.000000  150000.000000  148935.000000\n",
       "mean      104.608560     495.764636       1.859905\n",
       "std        81.037621     244.381802       1.300876\n",
       "min         7.142000      28.956107       1.000000\n",
       "25%        57.440500     284.475924       1.000000\n",
       "50%        86.399000     496.861102       1.000000\n",
       "75%       132.430250     706.505882       2.000000\n",
       "max      1859.336000     955.984776      18.000000"
      ]
     },
     "execution_count": 332,
     "metadata": {},
     "output_type": "execute_result"
    }
   ],
   "source": [
    "# Mean, max, min\n",
    "mdat.describe()"
   ]
  },
  {
   "cell_type": "code",
   "execution_count": 334,
   "metadata": {},
   "outputs": [
    {
     "data": {
      "text/plain": [
       "Dur. (ms)    1.569128e+07\n",
       "total        7.436470e+07\n",
       "frequency    2.770050e+05\n",
       "dtype: float64"
      ]
     },
     "execution_count": 334,
     "metadata": {},
     "output_type": "execute_result"
    }
   ],
   "source": [
    "#Total for each cluster\n",
    "mdat.sum(axis = 0)"
   ]
  },
  {
   "cell_type": "markdown",
   "metadata": {},
   "source": [
    "The result shows that the avarage time people spend per session is 105ms, a minimum duration last for about 7ms and maximum of 1859ms. See table above for that of total data spent and the session frequency."
   ]
  },
  {
   "cell_type": "code",
   "execution_count": 390,
   "metadata": {},
   "outputs": [],
   "source": [
    "dmin = [7.142000, 28.956107, 1.000000]\n",
    "dmax = [1859.336000, 955.984776, 18.000000] \n",
    "avg = [104.608560, 495.764636, 1.859905]\n",
    "tot = [1.569128e+07,7.436470e+07, 2.770050e+05]\n",
    "datac = {'minimums':dmin, 'maximums': dmax,  'total': tot,'avg':avg}\n",
    "mdf = pd.DataFrame(datac)"
   ]
  },
  {
   "cell_type": "code",
   "execution_count": 393,
   "metadata": {},
   "outputs": [],
   "source": [
    "mdf.insert(0, 'Metrics', ['Duration','Total data','Frequency'])\n"
   ]
  },
  {
   "cell_type": "code",
   "execution_count": 398,
   "metadata": {},
   "outputs": [
    {
     "data": {
      "text/plain": [
       "<matplotlib.axes._subplots.AxesSubplot at 0x14b95e19a48>"
      ]
     },
     "execution_count": 398,
     "metadata": {},
     "output_type": "execute_result"
    },
    {
     "data": {
      "image/png": "[encoded data removed]",
      "text/plain": [
       "<Figure size 432x288 with 1 Axes>"
      ]
     },
     "metadata": {},
     "output_type": "display_data"
    }
   ],
   "source": [
    "mdf.plot.bar()"
   ]
  },
  {
   "cell_type": "code",
   "execution_count": null,
   "metadata": {},
   "outputs": [],
   "source": [
    "# #Replace white spaces with np.NaN for \n",
    "# for i in da.columns:\n",
    "#     if da[i].dtype == np.dtype('object'):\n",
    "#         da[i][da[i].apply(lambda i: True if re.search('^\\s*$', str(i)) else False)]=None \n",
    "# # replace na using forward fill method for session id column\n",
    "# da[\"Bearer Id\"].fillna(method ='ffill', inplace = True)"
   ]
  },
  {
   "cell_type": "markdown",
   "metadata": {},
   "source": [
    "## Agregation of data usage statistics per application"
   ]
  },
  {
   "cell_type": "code",
   "execution_count": 460,
   "metadata": {},
   "outputs": [],
   "source": [
    "#Find the total data for each application and create new columns for the totals\n",
    "telcomdata['Netflix'] = telcomdata['Netflix DL (Bytes)'] + telcomdata['Netflix UL (Bytes)']\n",
    "telcomdata['YouTube'] = telcomdata['Youtube DL (Bytes)'] + telcomdata['Youtube UL (Bytes)']\n",
    "telcomdata['Gaming'] = telcomdata['Gaming DL (Bytes)'] + telcomdata['Gaming UL (Bytes)']\n",
    "telcomdata['Other'] = telcomdata['Other DL (Bytes)'] + telcomdata['Other UL (Bytes)']\n",
    "telcomdata['Social Media'] = telcomdata['Social Media DL (Bytes)'] + telcomdata['Social Media UL (Bytes)']\n",
    "telcomdata['Google'] = telcomdata['Google DL (Bytes)'] + telcomdata['Google UL (Bytes)']\n",
    "telcomdata['Email'] = telcomdata['Email DL (Bytes)'] + telcomdata['Email DL (Bytes)']"
   ]
  },
  {
   "cell_type": "code",
   "execution_count": 498,
   "metadata": {},
   "outputs": [],
   "source": [
    "#telcomdata.info()"
   ]
  },
  {
   "cell_type": "code",
   "execution_count": 542,
   "metadata": {},
   "outputs": [],
   "source": [
    "dtcol = telcomdata.iloc[:, 55:]\n",
    "dtcol.insert(0, 'MSISDN/Number',telcomdata['MSISDN/Number'])"
   ]
  },
  {
   "cell_type": "code",
   "execution_count": 543,
   "metadata": {},
   "outputs": [
    {
     "data": {
      "text/html": [
       "<div>\n",
       "<style scoped>\n",
       "    .dataframe tbody tr th:only-of-type {\n",
       "        vertical-align: middle;\n",
       "    }\n",
       "\n",
       "    .dataframe tbody tr th {\n",
       "        vertical-align: top;\n",
       "    }\n",
       "\n",
       "    .dataframe thead th {\n",
       "        text-align: right;\n",
       "    }\n",
       "</style>\n",
       "<table border=\"1\" class=\"dataframe\">\n",
       "  <thead>\n",
       "    <tr style=\"text-align: right;\">\n",
       "      <th></th>\n",
       "      <th>MSISDN/Number</th>\n",
       "      <th>Netflix</th>\n",
       "      <th>YouTube</th>\n",
       "      <th>Gaming</th>\n",
       "      <th>Other</th>\n",
       "      <th>Social Media</th>\n",
       "      <th>Google</th>\n",
       "      <th>Email</th>\n",
       "    </tr>\n",
       "  </thead>\n",
       "  <tbody>\n",
       "    <tr>\n",
       "      <th>0</th>\n",
       "      <td>3.366496e+10</td>\n",
       "      <td>1.785519e+07</td>\n",
       "      <td>1.835594e+07</td>\n",
       "      <td>2.924265e+08</td>\n",
       "      <td>1.805588e+08</td>\n",
       "      <td>1.570185e+06</td>\n",
       "      <td>2.905912e+06</td>\n",
       "      <td>7.127084e+06</td>\n",
       "    </tr>\n",
       "    <tr>\n",
       "      <th>1</th>\n",
       "      <td>3.368185e+10</td>\n",
       "      <td>3.556554e+07</td>\n",
       "      <td>3.935912e+07</td>\n",
       "      <td>6.099208e+08</td>\n",
       "      <td>5.419594e+08</td>\n",
       "      <td>1.933278e+06</td>\n",
       "      <td>4.414096e+06</td>\n",
       "      <td>1.258092e+06</td>\n",
       "    </tr>\n",
       "    <tr>\n",
       "      <th>2</th>\n",
       "      <td>3.376063e+10</td>\n",
       "      <td>2.375120e+07</td>\n",
       "      <td>3.442524e+07</td>\n",
       "      <td>2.299803e+08</td>\n",
       "      <td>4.149084e+08</td>\n",
       "      <td>1.726277e+06</td>\n",
       "      <td>1.022912e+07</td>\n",
       "      <td>5.380302e+06</td>\n",
       "    </tr>\n",
       "    <tr>\n",
       "      <th>3</th>\n",
       "      <td>3.375034e+10</td>\n",
       "      <td>1.509259e+07</td>\n",
       "      <td>3.653476e+07</td>\n",
       "      <td>8.103879e+08</td>\n",
       "      <td>7.618372e+08</td>\n",
       "      <td>6.574930e+05</td>\n",
       "      <td>1.181176e+07</td>\n",
       "      <td>2.879508e+06</td>\n",
       "    </tr>\n",
       "    <tr>\n",
       "      <th>4</th>\n",
       "      <td>3.369980e+10</td>\n",
       "      <td>1.753980e+07</td>\n",
       "      <td>3.422225e+07</td>\n",
       "      <td>5.312370e+08</td>\n",
       "      <td>5.646198e+08</td>\n",
       "      <td>9.127880e+05</td>\n",
       "      <td>7.748843e+06</td>\n",
       "      <td>3.872992e+06</td>\n",
       "    </tr>\n",
       "    <tr>\n",
       "      <th>...</th>\n",
       "      <td>...</td>\n",
       "      <td>...</td>\n",
       "      <td>...</td>\n",
       "      <td>...</td>\n",
       "      <td>...</td>\n",
       "      <td>...</td>\n",
       "      <td>...</td>\n",
       "      <td>...</td>\n",
       "    </tr>\n",
       "    <tr>\n",
       "      <th>149996</th>\n",
       "      <td>3.365069e+10</td>\n",
       "      <td>3.756186e+07</td>\n",
       "      <td>2.795510e+07</td>\n",
       "      <td>5.358069e+08</td>\n",
       "      <td>1.675193e+07</td>\n",
       "      <td>3.517065e+06</td>\n",
       "      <td>1.278491e+07</td>\n",
       "      <td>1.152780e+05</td>\n",
       "    </tr>\n",
       "    <tr>\n",
       "      <th>149997</th>\n",
       "      <td>3.366345e+10</td>\n",
       "      <td>4.064329e+07</td>\n",
       "      <td>2.216552e+07</td>\n",
       "      <td>6.316281e+08</td>\n",
       "      <td>7.146381e+08</td>\n",
       "      <td>2.352181e+06</td>\n",
       "      <td>4.415361e+06</td>\n",
       "      <td>3.908828e+06</td>\n",
       "    </tr>\n",
       "    <tr>\n",
       "      <th>149998</th>\n",
       "      <td>3.362189e+10</td>\n",
       "      <td>1.502970e+07</td>\n",
       "      <td>2.451641e+07</td>\n",
       "      <td>5.669338e+08</td>\n",
       "      <td>1.324156e+08</td>\n",
       "      <td>1.260239e+06</td>\n",
       "      <td>6.585469e+06</td>\n",
       "      <td>3.051468e+06</td>\n",
       "    </tr>\n",
       "    <tr>\n",
       "      <th>149999</th>\n",
       "      <td>3.361962e+10</td>\n",
       "      <td>1.649484e+07</td>\n",
       "      <td>1.712251e+07</td>\n",
       "      <td>3.550664e+08</td>\n",
       "      <td>8.161200e+08</td>\n",
       "      <td>8.231090e+05</td>\n",
       "      <td>7.757267e+06</td>\n",
       "      <td>4.456540e+06</td>\n",
       "    </tr>\n",
       "    <tr>\n",
       "      <th>150000</th>\n",
       "      <td>NaN</td>\n",
       "      <td>2.262861e+07</td>\n",
       "      <td>2.264348e+07</td>\n",
       "      <td>4.303331e+08</td>\n",
       "      <td>4.293653e+08</td>\n",
       "      <td>1.828250e+06</td>\n",
       "      <td>7.807295e+06</td>\n",
       "      <td>3.583458e+06</td>\n",
       "    </tr>\n",
       "  </tbody>\n",
       "</table>\n",
       "<p>150001 rows × 8 columns</p>\n",
       "</div>"
      ],
      "text/plain": [
       "        MSISDN/Number       Netflix       YouTube        Gaming         Other  \\\n",
       "0        3.366496e+10  1.785519e+07  1.835594e+07  2.924265e+08  1.805588e+08   \n",
       "1        3.368185e+10  3.556554e+07  3.935912e+07  6.099208e+08  5.419594e+08   \n",
       "2        3.376063e+10  2.375120e+07  3.442524e+07  2.299803e+08  4.149084e+08   \n",
       "3        3.375034e+10  1.509259e+07  3.653476e+07  8.103879e+08  7.618372e+08   \n",
       "4        3.369980e+10  1.753980e+07  3.422225e+07  5.312370e+08  5.646198e+08   \n",
       "...               ...           ...           ...           ...           ...   \n",
       "149996   3.365069e+10  3.756186e+07  2.795510e+07  5.358069e+08  1.675193e+07   \n",
       "149997   3.366345e+10  4.064329e+07  2.216552e+07  6.316281e+08  7.146381e+08   \n",
       "149998   3.362189e+10  1.502970e+07  2.451641e+07  5.669338e+08  1.324156e+08   \n",
       "149999   3.361962e+10  1.649484e+07  1.712251e+07  3.550664e+08  8.161200e+08   \n",
       "150000            NaN  2.262861e+07  2.264348e+07  4.303331e+08  4.293653e+08   \n",
       "\n",
       "        Social Media        Google         Email  \n",
       "0       1.570185e+06  2.905912e+06  7.127084e+06  \n",
       "1       1.933278e+06  4.414096e+06  1.258092e+06  \n",
       "2       1.726277e+06  1.022912e+07  5.380302e+06  \n",
       "3       6.574930e+05  1.181176e+07  2.879508e+06  \n",
       "4       9.127880e+05  7.748843e+06  3.872992e+06  \n",
       "...              ...           ...           ...  \n",
       "149996  3.517065e+06  1.278491e+07  1.152780e+05  \n",
       "149997  2.352181e+06  4.415361e+06  3.908828e+06  \n",
       "149998  1.260239e+06  6.585469e+06  3.051468e+06  \n",
       "149999  8.231090e+05  7.757267e+06  4.456540e+06  \n",
       "150000  1.828250e+06  7.807295e+06  3.583458e+06  \n",
       "\n",
       "[150001 rows x 8 columns]"
      ]
     },
     "execution_count": 543,
     "metadata": {},
     "output_type": "execute_result"
    }
   ],
   "source": [
    "dtcol"
   ]
  },
  {
   "cell_type": "code",
   "execution_count": null,
   "metadata": {},
   "outputs": [],
   "source": [
    "# Make copy of the data to work with each application\n",
    "netflixdf = dtcol.copy()\n",
    "youtubedf = dtcol.copy()\n",
    "gamingdf = dtcol.copy()\n",
    "socialdf = dtcol.copy()\n",
    "googledf = dtcol.copy()\n",
    "emaildf = dtcol.copy()"
   ]
  },
  {
   "cell_type": "code",
   "execution_count": null,
   "metadata": {},
   "outputs": [],
   "source": [
    "# function to get the top 10 an application\n",
    "def getStats(df, col):\n",
    "    dt = df.groupby('MSISDN/Number')[col].sum()\n",
    "    res = [(key, value) for (key, value) in sorted(dt.items(), key=lambda x: x[1])]\n",
    "    result = (res[-10:])\n",
    "    result = result[::-1]\n",
    "    return result"
   ]
  },
  {
   "cell_type": "code",
   "execution_count": null,
   "metadata": {},
   "outputs": [],
   "source": [
    "netflix = getStats(netflixdf, 'Netflix')\n",
    "youtube = getStats(youtubedf, 'YouTube')\n",
    "game =   getStats(gamingdf, 'Gaming')\n",
    "soc =    getStats(socialdf, 'Social Media')\n",
    "googl =  getStats(googledf, 'Google')\n",
    "email =  getStats(emaildf, 'Email')"
   ]
  },
  {
   "cell_type": "code",
   "execution_count": null,
   "metadata": {},
   "outputs": [],
   "source": [
    "game\n",
    "valu = []\n",
    "dlabels = ['208201906760163.0', '208201715944176.0','208201007176097.0','208202100881019.0','208201402778052.0','208200313716101.0','208200853859127.0','208201009693091.0','208201716367238.0','208202101287048.0']\n",
    "for i in game:\n",
    "    su = float('{0:.2f}'.format(i[1]*(10**-6)))\n",
    "    valu.append(su)\n",
    "#valu"
   ]
  },
  {
   "cell_type": "code",
   "execution_count": 510,
   "metadata": {},
   "outputs": [
    {
     "data": {
      "text/plain": [
       "Text(0.5, 0, 'User ID')"
      ]
     },
     "execution_count": 510,
     "metadata": {},
     "output_type": "execute_result"
    },
    {
     "data": {
      "image/png": "[encoded data removed]",
      "text/plain": [
       "<Figure size 432x288 with 1 Axes>"
      ]
     },
     "metadata": {},
     "output_type": "display_data"
    }
   ],
   "source": [
    "with sns.axes_style(\"whitegrid\"):\n",
    "    chart = sns.barplot(x=dlabels, y=valu)\n",
    "    chart.set_xticklabels(rotation=40, ha=\"right\", labels= dlabels)\n",
    "plt.title(\"Top 10 Netflix users data consumption\")\n",
    "plt.ylabel('data in MB')\n",
    "plt.xlabel('User ID')"
   ]
  },
  {
   "cell_type": "markdown",
   "metadata": {},
   "source": [
    "## Top 3 most used application. \n",
    "This is measured by the level of engagement users do with each application. We rank the applications based on how much data users have burnt on it. Total duration and and how frequent a particular application is visited by users would have been great ways to determine the most used application. Since we only have information on the data consumed on a paricular we will go by just that. The session frequency says nothing about wether it was with a particular applicaion or the other so we are unable to use that. There is no also record of the duration of use of an application. We only know the duration of a session."
   ]
  },
  {
   "cell_type": "code",
   "execution_count": 530,
   "metadata": {},
   "outputs": [],
   "source": [
    "#This gets the total data spent on an application in MB\n",
    "def getTotaldata(df, app):\n",
    "    datatotal = df[app].sum(axis = 0)\n",
    "    return round(datatotal*10**-6, 2)"
   ]
  },
  {
   "cell_type": "code",
   "execution_count": 533,
   "metadata": {},
   "outputs": [],
   "source": [
    "dnetflix = getTotaldata(netflixdf, 'Netflix')\n",
    "dyoutube = getTotaldata(youtubedf, 'YouTube')\n",
    "dgame =   getTotaldata(gamingdf, 'Gaming')\n",
    "dsoc =    getTotaldata(socialdf, 'Social Media')\n",
    "dgoogl =  getTotaldata(googledf, 'Google')\n",
    "demail =  getTotaldata(emaildf, 'Email')"
   ]
  },
  {
   "cell_type": "code",
   "execution_count": 534,
   "metadata": {},
   "outputs": [],
   "source": [
    "vals = [dnetflix, dyoutube,dgame, dsoc,dgoogl,demail]"
   ]
  },
  {
   "cell_type": "code",
   "execution_count": 537,
   "metadata": {},
   "outputs": [],
   "source": [
    "blabels = ['Netflix','YouTube','Gaming','Social Media','Google','Email']"
   ]
  },
  {
   "cell_type": "code",
   "execution_count": 538,
   "metadata": {},
   "outputs": [
    {
     "data": {
      "text/plain": [
       "Text(0.5, 0, 'Application')"
      ]
     },
     "execution_count": 538,
     "metadata": {},
     "output_type": "execute_result"
    },
    {
     "data": {
      "image/png": "[encoded data removed]",
      "text/plain": [
       "<Figure size 432x288 with 1 Axes>"
      ]
     },
     "metadata": {},
     "output_type": "display_data"
    }
   ],
   "source": [
    "with sns.axes_style(\"whitegrid\"):\n",
    "    chart = sns.barplot(x=blabels, y=vals)\n",
    "    chart.set_xticklabels(rotation=40, ha=\"right\", labels= blabels)\n",
    "plt.title(\"Total data spent per application\")\n",
    "plt.ylabel('data in MB')\n",
    "plt.xlabel('Application')"
   ]
  },
  {
   "cell_type": "markdown",
   "metadata": {},
   "source": [
    "The bar plot shows that users spend most of their data in gaming applications. YouTube and Netflix are the next big areas where \n",
    "users spend most of their data on. The plot also indicates that, people 5 times more data on gaming applications than in YouTube and Netflix.\n",
    "This could gives us two things to think about; either the gaming applications are by nature, data consuming or people actually spend alot more time \n",
    "engaging with these applications for different purposes."
   ]
  },
  {
   "cell_type": "code",
   "execution_count": null,
   "metadata": {},
   "outputs": [],
   "source": []
  }
 ],
 "metadata": {
  "kernelspec": {
   "display_name": "Python 3",
   "language": "python",
   "name": "python3"
  },
  "language_info": {
   "codemirror_mode": {
    "name": "ipython",
    "version": 3
   },
   "file_extension": ".py",
   "mimetype": "text/x-python",
   "name": "python",
   "nbconvert_exporter": "python",
   "pygments_lexer": "ipython3",
   "version": "3.7.6"
  }
 },
 "nbformat": 4,
 "nbformat_minor": 4
}
