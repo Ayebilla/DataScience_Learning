{
 "cells": [
  {
   "cell_type": "markdown",
   "metadata": {},
   "source": [
    "## Problem formulation for  A/B testing with Machine Learning"
   ]
  },
  {
   "cell_type": "markdown",
   "metadata": {},
   "source": [
    "A/B testing uses statistical inference to compare variates of the same thing to see if they are same or different statistically. Example is in assessing a particular feature of a website, we show different use groups(control group and test group) varied version of the original feature and then measure a desired response(action). The problem with this approach is that we are only comparing the outcome from these different versions of the ad to see if they are statistically different while forgetting ignoring the other factors of features such user behaviour, demographics etc that might have contributed to what we see. Machine Learning in A/B testing solves this problem! \n",
    "\n",
    "For our specific problem, we taret is the response column that record whether a customer responded 'yes' or 'no'(I named it encoded_exp in my data frame) to the question of wether they know of the SmartAd's brand. The rest of the columns serves as the input(features) of our model."
   ]
  },
  {
   "cell_type": "code",
   "execution_count": 36,
   "metadata": {},
   "outputs": [],
   "source": [
    "import numpy as np\n",
    "import pandas as pd\n",
    "import seaborn as sns\n",
    "import matplotlib\n",
    "import matplotlib.pyplot as plt\n",
    "import scipy.stats as stats\n",
    "matplotlib.style.use('ggplot')\n",
    "from sklearn import linear_model\n",
    "from sklearn import preprocessing\n",
    "from sklearn.model_selection import train_test_split\n",
    "from sklearn.metrics import r2_score\n",
    "from sklearn.model_selection import StratifiedKFold\n",
    "from sklearn import tree\n",
    "from sklearn.ensemble import GradientBoostingClassifier\n",
    "from sklearn.model_selection import cross_val_score\n",
    "from sklearn.metrics import mean_absolute_error"
   ]
  },
  {
   "cell_type": "code",
   "execution_count": 2,
   "metadata": {},
   "outputs": [],
   "source": [
    "data=pd.read_csv('AdSmartABdata.csv')\n",
    "wda = data.copy()"
   ]
  },
  {
   "cell_type": "code",
   "execution_count": 4,
   "metadata": {},
   "outputs": [],
   "source": [
    "dff = wda.copy()"
   ]
  },
  {
   "cell_type": "code",
   "execution_count": 67,
   "metadata": {},
   "outputs": [],
   "source": [
    "#check which dates are present\n",
    "#dff['date'].value_counts()"
   ]
  },
  {
   "cell_type": "markdown",
   "metadata": {},
   "source": [
    "* The dates range from July 3rd to July 9th 2020. We can savely drop the year and the month in the date and use the days only as part of the features. We create another column for the days. We also colapse the responses 'yes' and 'no' into one column called 'brand_awareness'. Change the 'date' column into a datetime format"
   ]
  },
  {
   "cell_type": "code",
   "execution_count": 6,
   "metadata": {},
   "outputs": [],
   "source": [
    "dff['date'] =  pd.to_datetime(dff['date'])\n",
    "dff['day'] = dff['date'].dt.day\n",
    "dff['brand_awareness'] = dff['yes'] + dff['no']"
   ]
  },
  {
   "cell_type": "code",
   "execution_count": 66,
   "metadata": {},
   "outputs": [],
   "source": [
    "#dff.head()"
   ]
  },
  {
   "cell_type": "markdown",
   "metadata": {},
   "source": [
    "Next, we encode categorical columns that are not in numeric format"
   ]
  },
  {
   "cell_type": "code",
   "execution_count": 8,
   "metadata": {},
   "outputs": [],
   "source": [
    "label_encoder = preprocessing.LabelEncoder()\n",
    "label_encoder1 = preprocessing.LabelEncoder()\n",
    "label_encoder2 = preprocessing.LabelEncoder()\n",
    "#encode experiment, and device_make columns to \n",
    "encoded_exp = label_encoder.fit_transform(dff[\"experiment\"])\n",
    "encoded_dvmk = label_encoder1.fit_transform(dff[\"device_make\"])\n",
    "encoded_brws = label_encoder2.fit_transform(dff[\"browser\"])"
   ]
  },
  {
   "cell_type": "code",
   "execution_count": 9,
   "metadata": {},
   "outputs": [],
   "source": [
    "#label_encoder.inverse_transform(encoded_exp)"
   ]
  },
  {
   "cell_type": "code",
   "execution_count": 10,
   "metadata": {},
   "outputs": [],
   "source": [
    "dff['encoded_exp'] = encoded_exp\n",
    "dff['encoded_dvmk'] = encoded_dvmk\n",
    "dff['encoded_brws'] = encoded_brws"
   ]
  },
  {
   "cell_type": "code",
   "execution_count": 11,
   "metadata": {},
   "outputs": [],
   "source": [
    "dff = dff.drop([\"auction_id\", \"experiment\", \"date\",\"device_make\",\"browser\",\"yes\",\"no\"], axis=1)"
   ]
  },
  {
   "cell_type": "markdown",
   "metadata": {},
   "source": [
    "## Feature selection"
   ]
  },
  {
   "cell_type": "code",
   "execution_count": 70,
   "metadata": {},
   "outputs": [
    {
     "data": {
      "text/plain": [
       "<matplotlib.axes._subplots.AxesSubplot at 0x1e7843af188>"
      ]
     },
     "execution_count": 70,
     "metadata": {},
     "output_type": "execute_result"
    },
    {
     "data": {
      "image/png": "[encoded data removed]",
      "text/plain": [
       "<Figure size 432x288 with 2 Axes>"
      ]
     },
     "metadata": {},
     "output_type": "display_data"
    }
   ],
   "source": [
    "sns.heatmap(dff.corr())"
   ]
  },
  {
   "cell_type": "markdown",
   "metadata": {},
   "source": [
    "We see there is no much correlation among the variables.So we use all the columns as features except brand_awareness which is specified as the target(output)"
   ]
  },
  {
   "cell_type": "markdown",
   "metadata": {},
   "source": [
    "## Splitting the data into 3 sets for training, validation and testing"
   ]
  },
  {
   "cell_type": "markdown",
   "metadata": {},
   "source": [
    "To split the data into 70%, 20%, and 10%, we first divide the data into 90% training set and 10% test set. We will then further split the 90% training data set into 78% training set and 22% validation set. This is same as split the original data set into 70%, 20% and 10%"
   ]
  },
  {
   "cell_type": "code",
   "execution_count": 16,
   "metadata": {},
   "outputs": [],
   "source": [
    "y = dff['brand_awareness']\n",
    "X = dff.drop(['brand_awareness'],axis =1)\n",
    "# # split data set into 70%, 20%, 10%\n",
    "X_traini, x_testi, y_traini, y_testi = train_test_split(X, y, train_size = 0.9, test_size=0.1, random_state=1)\n",
    "X_traini, x_val, y_traini, y_val  = train_test_split(X_traini, y_traini, train_size = 0.78, test_size=0.22, random_state=1)\n"
   ]
  },
  {
   "cell_type": "code",
   "execution_count": 18,
   "metadata": {},
   "outputs": [],
   "source": [
    "log_model = linear_model.LogisticRegression(multi_class = 'ovr',max_iter = 200)\n",
    "DT = tree.DecisionTreeClassifier()\n",
    "xgb = GradientBoostingClassifier(random_state=0)"
   ]
  },
  {
   "cell_type": "code",
   "execution_count": 19,
   "metadata": {},
   "outputs": [],
   "source": [
    "def show_scores(model, Xtrain, xtest, ytrain,ytest):\n",
    "    model.fit(Xtrain, ytrain)\n",
    "    return(model.score(xtest, ytest))"
   ]
  },
  {
   "cell_type": "code",
   "execution_count": 20,
   "metadata": {},
   "outputs": [],
   "source": [
    "# # 5-fold training of the model using the training data set\n",
    "# folds = StratifiedKFold(n_splits = 5)\n",
    "# score_l = []\n",
    "# score_xb = []\n",
    "# score_d = []\n",
    "# for train_index, test_index in folds.split(X_traini, y_traini):\n",
    "#     X_train, x_test, y_train, y_test = X_traini.iloc[train_index],X_traini.iloc[test_index], y_traini.iloc[train_index],y_traini.iloc[test_index]\n",
    "#     score_l.append(show_scores(log_model, X_train, x_test, y_train, y_test))\n",
    "#     score_d.append(show_scores(DT,X_train, x_test, y_train, y_test))\n",
    "#     score_xb.append(show_scores(xgb,X_train, x_test, y_train, y_test))"
   ]
  },
  {
   "cell_type": "markdown",
   "metadata": {},
   "source": [
    "## Training the models with 5-fold cross validation"
   ]
  },
  {
   "cell_type": "code",
   "execution_count": 21,
   "metadata": {},
   "outputs": [
    {
     "data": {
      "text/plain": [
       "array([0.84744268, 0.84744268, 0.84656085, 0.84656085, 0.84730803])"
      ]
     },
     "execution_count": 21,
     "metadata": {},
     "output_type": "execute_result"
    }
   ],
   "source": [
    "# logistic regression model\n",
    "cross_val_score(log_model,X_traini, y_traini,cv = 5 ) "
   ]
  },
  {
   "cell_type": "code",
   "execution_count": 22,
   "metadata": {},
   "outputs": [
    {
     "data": {
      "text/plain": [
       "array([0.80070547, 0.80070547, 0.80335097, 0.79805996, 0.78993822])"
      ]
     },
     "execution_count": 22,
     "metadata": {},
     "output_type": "execute_result"
    }
   ],
   "source": [
    "# Decision tree model\n",
    "cross_val_score(DT,X_traini, y_traini, cv = 5 )"
   ]
  },
  {
   "cell_type": "code",
   "execution_count": 23,
   "metadata": {},
   "outputs": [
    {
     "data": {
      "text/plain": [
       "array([0.84832451, 0.84744268, 0.84656085, 0.84303351, 0.84642542])"
      ]
     },
     "execution_count": 23,
     "metadata": {},
     "output_type": "execute_result"
    }
   ],
   "source": [
    "#XGBoost model\n",
    "cross_val_score(xgb,X_traini, y_traini,cv = 5 )"
   ]
  },
  {
   "cell_type": "markdown",
   "metadata": {},
   "source": [
    "## fitting models and loss analysis"
   ]
  },
  {
   "cell_type": "code",
   "execution_count": 33,
   "metadata": {},
   "outputs": [
    {
     "data": {
      "text/plain": [
       "0.155"
      ]
     },
     "execution_count": 33,
     "metadata": {},
     "output_type": "execute_result"
    }
   ],
   "source": [
    "#Logistic regression model\n",
    "log_model.fit(X = X_traini, y = y_traini)\n",
    "y_pred = log_model.predict(X=x_val )\n",
    "mean_absolute_error(y_val, y_pred)"
   ]
  },
  {
   "cell_type": "code",
   "execution_count": 59,
   "metadata": {},
   "outputs": [
    {
     "data": {
      "text/plain": [
       "0.1575"
      ]
     },
     "execution_count": 59,
     "metadata": {},
     "output_type": "execute_result"
    }
   ],
   "source": [
    "#XGBoost\n",
    "xgb.fit(X = X_traini, y = y_traini)\n",
    "mean_absolute_error(y_val, xgb.predict(x_val))"
   ]
  },
  {
   "cell_type": "code",
   "execution_count": 39,
   "metadata": {},
   "outputs": [
    {
     "data": {
      "text/plain": [
       "0.203125"
      ]
     },
     "execution_count": 39,
     "metadata": {},
     "output_type": "execute_result"
    }
   ],
   "source": [
    "# Decision tree\n",
    "DT.fit(X = X_traini, y = y_traini)\n",
    "mean_absolute_error(y_val, DT.predict(x_val))"
   ]
  },
  {
   "cell_type": "markdown",
   "metadata": {},
   "source": [
    "The score values and the error both confirms that, logistic regression and XGBoost models perform better on the data than decision tree model. Between XGBoost and logistic regression however, logistic regression seems to be the winner."
   ]
  },
  {
   "cell_type": "markdown",
   "metadata": {},
   "source": [
    "## Feature importance"
   ]
  },
  {
   "cell_type": "code",
   "execution_count": 57,
   "metadata": {},
   "outputs": [],
   "source": [
    "features = ['hour','platform_os','day','experiment','device make','browser']"
   ]
  },
  {
   "cell_type": "code",
   "execution_count": 64,
   "metadata": {},
   "outputs": [
    {
     "data": {
      "text/plain": [
       "<matplotlib.axes._subplots.AxesSubplot at 0x1e78432ff08>"
      ]
     },
     "execution_count": 64,
     "metadata": {},
     "output_type": "execute_result"
    },
    {
     "data": {
      "image/png": "[encoded data removed]",
      "text/plain": [
       "<Figure size 432x288 with 1 Axes>"
      ]
     },
     "metadata": {},
     "output_type": "display_data"
    }
   ],
   "source": [
    "sns.barplot(features,abs(log_model.coef_[0]))"
   ]
  },
  {
   "cell_type": "markdown",
   "metadata": {},
   "source": [
    "Most important features from logistic model is platform_os and experiment. All other features are insignificant "
   ]
  },
  {
   "cell_type": "code",
   "execution_count": 58,
   "metadata": {},
   "outputs": [
    {
     "data": {
      "text/plain": [
       "<matplotlib.axes._subplots.AxesSubplot at 0x1e7842117c8>"
      ]
     },
     "execution_count": 58,
     "metadata": {},
     "output_type": "execute_result"
    },
    {
     "data": {
      "image/png": "[encoded data removed]",
      "text/plain": [
       "<Figure size 432x288 with 1 Axes>"
      ]
     },
     "metadata": {},
     "output_type": "display_data"
    }
   ],
   "source": [
    "# Decision tree\n",
    "sns.barplot(features, DT.tree_.compute_feature_importances(normalize=False))"
   ]
  },
  {
   "cell_type": "markdown",
   "metadata": {},
   "source": [
    "The important features are the hour (3%), device make (4%), day (2%). The rest of the features contributed less than 1% to the model."
   ]
  },
  {
   "cell_type": "code",
   "execution_count": 55,
   "metadata": {},
   "outputs": [
    {
     "data": {
      "text/plain": [
       "<matplotlib.axes._subplots.AxesSubplot at 0x1e784147b08>"
      ]
     },
     "execution_count": 55,
     "metadata": {},
     "output_type": "execute_result"
    },
    {
     "data": {
      "image/png": "[encoded data removed]",
      "text/plain": [
       "<Figure size 432x288 with 1 Axes>"
      ]
     },
     "metadata": {},
     "output_type": "display_data"
    }
   ],
   "source": [
    "#Feature importance from XGBoost classifier\n",
    "sns.barplot(features,xgb.feature_importances_)"
   ]
  },
  {
   "cell_type": "markdown",
   "metadata": {},
   "source": [
    "For XGBoost, the most important features are device_make(38%),hour (22%), day(14%), browser type(11%). Platform_os and experiment type are the least important features with 3% and 9% respectively."
   ]
  },
  {
   "cell_type": "code",
   "execution_count": 69,
   "metadata": {},
   "outputs": [],
   "source": [
    "#X.head()"
   ]
  },
  {
   "cell_type": "code",
   "execution_count": null,
   "metadata": {},
   "outputs": [],
   "source": []
  }
 ],
 "metadata": {
  "kernelspec": {
   "display_name": "Python 3",
   "language": "python",
   "name": "python3"
  },
  "language_info": {
   "codemirror_mode": {
    "name": "ipython",
    "version": 3
   },
   "file_extension": ".py",
   "mimetype": "text/x-python",
   "name": "python",
   "nbconvert_exporter": "python",
   "pygments_lexer": "ipython3",
   "version": "3.7.6"
  }
 },
 "nbformat": 4,
 "nbformat_minor": 4
}
